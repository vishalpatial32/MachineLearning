{
 "cells": [
  {
   "cell_type": "code",
   "execution_count": 1,
   "metadata": {
    "collapsed": true
   },
   "outputs": [],
   "source": [
    "import requests\n",
    "from bs4 import BeautifulSoup"
   ]
  },
  {
   "cell_type": "code",
   "execution_count": 2,
   "metadata": {
    "collapsed": true
   },
   "outputs": [],
   "source": [
    "url = \"https://www.ratemyprofessors.com/ShowRatings.jsp?tid=941931\""
   ]
  },
  {
   "cell_type": "code",
   "execution_count": 3,
   "metadata": {
    "collapsed": true
   },
   "outputs": [],
   "source": [
    "page = requests.get(url)"
   ]
  },
  {
   "cell_type": "code",
   "execution_count": 4,
   "metadata": {},
   "outputs": [
    {
     "data": {
      "text/plain": [
       "<Response [200]>"
      ]
     },
     "execution_count": 4,
     "metadata": {},
     "output_type": "execute_result"
    }
   ],
   "source": [
    "page"
   ]
  },
  {
   "cell_type": "code",
   "execution_count": 5,
   "metadata": {
    "collapsed": true
   },
   "outputs": [],
   "source": [
    "soup = BeautifulSoup(page.text, \"html.parser\")"
   ]
  },
  {
   "cell_type": "code",
   "execution_count": 6,
   "metadata": {},
   "outputs": [
    {
     "data": {
      "text/plain": [
       "[<span class=\"Tag-bs9vf4-0 dlvsPV\">Tough grader</span>,\n",
       " <span class=\"Tag-bs9vf4-0 dlvsPV\">Lots of homework</span>,\n",
       " <span class=\"Tag-bs9vf4-0 dlvsPV\">Skip class? You won't pass.</span>,\n",
       " <span class=\"Tag-bs9vf4-0 dlvsPV\">Beware of pop quizzes</span>,\n",
       " <span class=\"Tag-bs9vf4-0 dlvsPV\">Caring</span>,\n",
       " <span class=\"Tag-bs9vf4-0 dlvsPV\">Skip class? You won't pass.</span>,\n",
       " <span class=\"Tag-bs9vf4-0 dlvsPV\">Test heavy</span>,\n",
       " <span class=\"Tag-bs9vf4-0 dlvsPV\">Tough grader</span>,\n",
       " <span class=\"Tag-bs9vf4-0 dlvsPV\">Respected</span>,\n",
       " <span class=\"Tag-bs9vf4-0 dlvsPV\">Skip class? You won't pass.</span>,\n",
       " <span class=\"Tag-bs9vf4-0 dlvsPV\">Caring</span>,\n",
       " <span class=\"Tag-bs9vf4-0 dlvsPV\">Respected</span>,\n",
       " <span class=\"Tag-bs9vf4-0 dlvsPV\">Hilarious</span>,\n",
       " <span class=\"Tag-bs9vf4-0 dlvsPV\">Amazing lectures</span>,\n",
       " <span class=\"Tag-bs9vf4-0 dlvsPV\">Respected</span>,\n",
       " <span class=\"Tag-bs9vf4-0 dlvsPV\">TEST HEAVY</span>,\n",
       " <span class=\"Tag-bs9vf4-0 dlvsPV\">Amazing lectures</span>,\n",
       " <span class=\"Tag-bs9vf4-0 dlvsPV\">Inspirational</span>,\n",
       " <span class=\"Tag-bs9vf4-0 dlvsPV\">Hilarious</span>,\n",
       " <span class=\"Tag-bs9vf4-0 dlvsPV\">Caring</span>,\n",
       " <span class=\"Tag-bs9vf4-0 dlvsPV\">Tough Grader</span>,\n",
       " <span class=\"Tag-bs9vf4-0 dlvsPV\">Skip class? You won't pass.</span>,\n",
       " <span class=\"Tag-bs9vf4-0 dlvsPV\">LOTS OF HOMEWORK</span>,\n",
       " <span class=\"Tag-bs9vf4-0 dlvsPV\">Tough Grader</span>,\n",
       " <span class=\"Tag-bs9vf4-0 dlvsPV\">Skip class? You won't pass.</span>,\n",
       " <span class=\"Tag-bs9vf4-0 dlvsPV\">LOTS OF HOMEWORK</span>,\n",
       " <span class=\"Tag-bs9vf4-0 dlvsPV\">Respected</span>,\n",
       " <span class=\"Tag-bs9vf4-0 dlvsPV\">Tough Grader</span>,\n",
       " <span class=\"Tag-bs9vf4-0 dlvsPV\">Skip class? You won't pass.</span>,\n",
       " <span class=\"Tag-bs9vf4-0 dlvsPV\">BEWARE OF POP QUIZZES</span>,\n",
       " <span class=\"Tag-bs9vf4-0 dlvsPV\">LOTS OF HOMEWORK</span>,\n",
       " <span class=\"Tag-bs9vf4-0 dlvsPV\">GROUP PROJECTS</span>,\n",
       " <span class=\"Tag-bs9vf4-0 dlvsPV\">Tough Grader</span>,\n",
       " <span class=\"Tag-bs9vf4-0 dlvsPV\">Skip class? You won't pass.</span>,\n",
       " <span class=\"Tag-bs9vf4-0 dlvsPV\">Caring</span>,\n",
       " <span class=\"Tag-bs9vf4-0 dlvsPV\">GRADED BY FEW THINGS</span>,\n",
       " <span class=\"Tag-bs9vf4-0 dlvsPV\">GROUP PROJECTS</span>,\n",
       " <span class=\"Tag-bs9vf4-0 dlvsPV\">LECTURE HEAVY</span>,\n",
       " <span class=\"Tag-bs9vf4-0 dlvsPV\">Skip class? You won't pass.</span>,\n",
       " <span class=\"Tag-bs9vf4-0 dlvsPV\">Caring</span>]"
      ]
     },
     "execution_count": 6,
     "metadata": {},
     "output_type": "execute_result"
    }
   ],
   "source": [
    "proftags = soup.find_all(\"span\", { \"class\" : \"Tag-bs9vf4-0 dlvsPV\"} )\n",
    "proftags"
   ]
  },
  {
   "cell_type": "code",
   "execution_count": 7,
   "metadata": {},
   "outputs": [
    {
     "name": "stdout",
     "output_type": "stream",
     "text": [
      "Tough grader\n",
      "Lots of homework\n",
      "Skip class? You won't pass.\n",
      "Beware of pop quizzes\n",
      "Caring\n",
      "Skip class? You won't pass.\n",
      "Test heavy\n",
      "Tough grader\n",
      "Respected\n",
      "Skip class? You won't pass.\n",
      "Caring\n",
      "Respected\n",
      "Hilarious\n",
      "Amazing lectures\n",
      "Respected\n",
      "TEST HEAVY\n",
      "Amazing lectures\n",
      "Inspirational\n",
      "Hilarious\n",
      "Caring\n",
      "Tough Grader\n",
      "Skip class? You won't pass.\n",
      "LOTS OF HOMEWORK\n",
      "Tough Grader\n",
      "Skip class? You won't pass.\n",
      "LOTS OF HOMEWORK\n",
      "Respected\n",
      "Tough Grader\n",
      "Skip class? You won't pass.\n",
      "BEWARE OF POP QUIZZES\n",
      "LOTS OF HOMEWORK\n",
      "GROUP PROJECTS\n",
      "Tough Grader\n",
      "Skip class? You won't pass.\n",
      "Caring\n",
      "GRADED BY FEW THINGS\n",
      "GROUP PROJECTS\n",
      "LECTURE HEAVY\n",
      "Skip class? You won't pass.\n",
      "Caring\n"
     ]
    }
   ],
   "source": [
    "for mytag in proftags:\n",
    "    print(mytag.get_text())"
   ]
  },
  {
   "cell_type": "markdown",
   "metadata": {},
   "source": [
    "# Web Scrapping from the Rotten Tomatoes Movie Website"
   ]
  },
  {
   "cell_type": "code",
   "execution_count": 8,
   "metadata": {
    "collapsed": true
   },
   "outputs": [],
   "source": [
    "import pandas as pd\n",
    "\n",
    "import requests\n",
    "from bs4 import BeautifulSoup"
   ]
  },
  {
   "cell_type": "code",
   "execution_count": 9,
   "metadata": {
    "collapsed": true
   },
   "outputs": [],
   "source": [
    "url = \"https://editorial.rottentomatoes.com/guide/140-essential-action-movies-to-watch-now/2/\""
   ]
  },
  {
   "cell_type": "code",
   "execution_count": 10,
   "metadata": {},
   "outputs": [
    {
     "data": {
      "text/plain": [
       "<Response [200]>"
      ]
     },
     "execution_count": 10,
     "metadata": {},
     "output_type": "execute_result"
    }
   ],
   "source": [
    "response = requests.get(url)\n",
    "response"
   ]
  },
  {
   "cell_type": "code",
   "execution_count": 11,
   "metadata": {},
   "outputs": [
    {
     "data": {
      "text/plain": [
       "200"
      ]
     },
     "execution_count": 11,
     "metadata": {},
     "output_type": "execute_result"
    }
   ],
   "source": [
    "response.status_code"
   ]
  },
  {
   "cell_type": "code",
   "execution_count": 12,
   "metadata": {
    "collapsed": true
   },
   "outputs": [],
   "source": [
    "# get html from the webpage\n",
    "html = response.content"
   ]
  },
  {
   "cell_type": "raw",
   "metadata": {},
   "source": [
    "Choosing a Parser:\n",
    "\n",
    "3 Options: lxml (best) , html5lib (second), html.parser (worst)"
   ]
  },
  {
   "cell_type": "code",
   "execution_count": 13,
   "metadata": {
    "collapsed": true
   },
   "outputs": [],
   "source": [
    "soup = BeautifulSoup(html,\"html.parser\")\n",
    "\n",
    "with open(\"Rotten_tomatoes_html_parser.html\",\"wb\") as file:\n",
    "    file.write(soup.prettify('utf-8'))"
   ]
  },
  {
   "cell_type": "code",
   "execution_count": 14,
   "metadata": {
    "collapsed": true
   },
   "outputs": [],
   "source": [
    "soup = BeautifulSoup(html,\"lxml\")\n",
    "\n",
    "with open(\"Rotten_tomatoes_lxml_parser.html\",\"wb\") as file:\n",
    "    file.write(soup.prettify('utf-8'))"
   ]
  },
  {
   "cell_type": "code",
   "execution_count": 15,
   "metadata": {},
   "outputs": [
    {
     "data": {
      "text/plain": [
       "[<div class=\"col-sm-18 col-full-xs countdown-item-content\">\n",
       " <div class=\"row countdown-item-title-bar\">\n",
       " <div class=\"col-sm-20 col-full-xs\" style=\"height: 100%;\">\n",
       " <div class=\"article_movie_title\" style=\"float: left;\">\n",
       " <div><h2><a href=\"https://www.rottentomatoes.com/m/1018009-running_scared/\">Running Scared</a> <span class=\"subtle start-year\">(1986)</span> <span class=\"icon tiny rotten\" title=\"Rotten\"></span> <span class=\"tMeterScore\">57%</span></h2></div>\n",
       " </div>\n",
       " </div>\n",
       " <div class=\"col-sm-4 col-full-xs\" style=\"height: 100%;\">\n",
       " <div class=\"countdown-index\">#140</div>\n",
       " </div>\n",
       " </div>\n",
       " <div class=\"row countdown-item-details\">\n",
       " <div class=\"col-sm-24\">\n",
       " <div class=\"info countdown-adjusted-score\"><span class=\"descriptor\">Adjusted Score: </span>58.247% <span class=\"glyphicon glyphicon-question-sign\" data-html=\"true\" data-original-title=\"The Adjusted Score comes from a weighted formula (Bayesian) that we use that accounts for variation in the number of reviews per movie.\" data-placement=\"top\" data-toggle=\"tooltip\" rel=\"tooltip\" title=\"\"></span></div>\n",
       " <div class=\"info critics-consensus\"><span class=\"descriptor\">Critics Consensus:</span> Running Scared struggles to strike a consistent balance between violent action and humor, but the chemistry between its well-matched leads keeps things entertaining.</div>\n",
       " <div class=\"info synopsis\"><span class=\"descriptor\">Synopsis:</span> Distinguished by a sharp, witty dialogue between its two cop protagonists, Ray and Danny (Gregory Hines and Billy Crystal), this...<a class=\"\" data-pageheader=\"\" href=\"https://www.rottentomatoes.com/m/1018009-running_scared/\" target=\"_top\"> [More]</a></div>\n",
       " <div class=\"info cast\">\n",
       " <span class=\"descriptor\">Starring:</span> <a class=\"\" href=\"/celebrity/gregory_hines/\">Gregory Hines</a>, <a class=\"\" href=\"/celebrity/billy_crystal/\">Billy Crystal</a>, <a class=\"\" href=\"/celebrity/jimmy_smits/\">Jimmy Smits</a>, <a class=\"\" href=\"/celebrity/steven_bauer/\">Steven Bauer</a></div>\n",
       " <div class=\"info director\">\n",
       " <span class=\"descriptor\">Directed By:</span> <a class=\"\" href=\"/celebrity/peter_hyams/\">Peter Hyams</a></div>\n",
       " </div>\n",
       " </div>\n",
       " </div>,\n",
       " <div class=\"col-sm-18 col-full-xs countdown-item-content\">\n",
       " <div class=\"row countdown-item-title-bar\">\n",
       " <div class=\"col-sm-20 col-full-xs\" style=\"height: 100%;\">\n",
       " <div class=\"article_movie_title\" style=\"float: left;\">\n",
       " <div><h2><a href=\"https://www.rottentomatoes.com/m/equilibrium/\">Equilibrium</a> <span class=\"subtle start-year\">(2002)</span> <span class=\"icon tiny rotten\" title=\"Rotten\"></span> <span class=\"tMeterScore\">41%</span></h2></div>\n",
       " </div>\n",
       " </div>\n",
       " <div class=\"col-sm-4 col-full-xs\" style=\"height: 100%;\">\n",
       " <div class=\"countdown-index\">#139</div>\n",
       " </div>\n",
       " </div>\n",
       " <div class=\"row countdown-item-details\">\n",
       " <div class=\"col-sm-24\">\n",
       " <div class=\"info countdown-adjusted-score\"><span class=\"descriptor\">Adjusted Score: </span>43.026% <span class=\"glyphicon glyphicon-question-sign\" data-html=\"true\" data-original-title=\"The Adjusted Score comes from a weighted formula (Bayesian) that we use that accounts for variation in the number of reviews per movie.\" data-placement=\"top\" data-toggle=\"tooltip\" rel=\"tooltip\" title=\"\"></span></div>\n",
       " <div class=\"info critics-consensus\"><span class=\"descriptor\">Critics Consensus:</span> Equilibrium is a reheated mishmash of other sci-fi movies.</div>\n",
       " <div class=\"info synopsis\"><span class=\"descriptor\">Synopsis:</span> In the nation of Libria, there is always peace among men. The rules of the Librian system are simple. If...<a class=\"\" data-pageheader=\"\" href=\"https://www.rottentomatoes.com/m/equilibrium/\" target=\"_top\"> [More]</a></div>\n",
       " <div class=\"info cast\">\n",
       " <span class=\"descriptor\">Starring:</span> <a class=\"\" href=\"/celebrity/christian_bale/\">Christian Bale</a>, <a class=\"\" href=\"/celebrity/emily_watson/\">Emily Watson</a>, <a class=\"\" href=\"/celebrity/taye_diggs/\">Taye Diggs</a>, <a class=\"\" href=\"/celebrity/angus_macfadyen/\">Angus Macfadyen</a></div>\n",
       " <div class=\"info director\">\n",
       " <span class=\"descriptor\">Directed By:</span> <a class=\"\" href=\"/celebrity/kurt_wimmer/\">Kurt Wimmer</a></div>\n",
       " </div>\n",
       " </div>\n",
       " </div>]"
      ]
     },
     "execution_count": 15,
     "metadata": {},
     "output_type": "execute_result"
    }
   ],
   "source": [
    "# Find all div tag on my webpage\n",
    "divs = soup.find_all(\"div\", { \"class\" : \"col-sm-18 col-full-xs countdown-item-content\" })\n",
    "divs[:2]"
   ]
  },
  {
   "cell_type": "code",
   "execution_count": 16,
   "metadata": {},
   "outputs": [
    {
     "data": {
      "text/plain": [
       "<div class=\"col-sm-18 col-full-xs countdown-item-content\">\n",
       "<div class=\"row countdown-item-title-bar\">\n",
       "<div class=\"col-sm-20 col-full-xs\" style=\"height: 100%;\">\n",
       "<div class=\"article_movie_title\" style=\"float: left;\">\n",
       "<div><h2><a href=\"https://www.rottentomatoes.com/m/1018009-running_scared/\">Running Scared</a> <span class=\"subtle start-year\">(1986)</span> <span class=\"icon tiny rotten\" title=\"Rotten\"></span> <span class=\"tMeterScore\">57%</span></h2></div>\n",
       "</div>\n",
       "</div>\n",
       "<div class=\"col-sm-4 col-full-xs\" style=\"height: 100%;\">\n",
       "<div class=\"countdown-index\">#140</div>\n",
       "</div>\n",
       "</div>\n",
       "<div class=\"row countdown-item-details\">\n",
       "<div class=\"col-sm-24\">\n",
       "<div class=\"info countdown-adjusted-score\"><span class=\"descriptor\">Adjusted Score: </span>58.247% <span class=\"glyphicon glyphicon-question-sign\" data-html=\"true\" data-original-title=\"The Adjusted Score comes from a weighted formula (Bayesian) that we use that accounts for variation in the number of reviews per movie.\" data-placement=\"top\" data-toggle=\"tooltip\" rel=\"tooltip\" title=\"\"></span></div>\n",
       "<div class=\"info critics-consensus\"><span class=\"descriptor\">Critics Consensus:</span> Running Scared struggles to strike a consistent balance between violent action and humor, but the chemistry between its well-matched leads keeps things entertaining.</div>\n",
       "<div class=\"info synopsis\"><span class=\"descriptor\">Synopsis:</span> Distinguished by a sharp, witty dialogue between its two cop protagonists, Ray and Danny (Gregory Hines and Billy Crystal), this...<a class=\"\" data-pageheader=\"\" href=\"https://www.rottentomatoes.com/m/1018009-running_scared/\" target=\"_top\"> [More]</a></div>\n",
       "<div class=\"info cast\">\n",
       "<span class=\"descriptor\">Starring:</span> <a class=\"\" href=\"/celebrity/gregory_hines/\">Gregory Hines</a>, <a class=\"\" href=\"/celebrity/billy_crystal/\">Billy Crystal</a>, <a class=\"\" href=\"/celebrity/jimmy_smits/\">Jimmy Smits</a>, <a class=\"\" href=\"/celebrity/steven_bauer/\">Steven Bauer</a></div>\n",
       "<div class=\"info director\">\n",
       "<span class=\"descriptor\">Directed By:</span> <a class=\"\" href=\"/celebrity/peter_hyams/\">Peter Hyams</a></div>\n",
       "</div>\n",
       "</div>\n",
       "</div>"
      ]
     },
     "execution_count": 16,
     "metadata": {},
     "output_type": "execute_result"
    }
   ],
   "source": [
    "divs[0]"
   ]
  },
  {
   "cell_type": "code",
   "execution_count": 17,
   "metadata": {},
   "outputs": [
    {
     "data": {
      "text/plain": [
       "<h2><a href=\"https://www.rottentomatoes.com/m/1018009-running_scared/\">Running Scared</a> <span class=\"subtle start-year\">(1986)</span> <span class=\"icon tiny rotten\" title=\"Rotten\"></span> <span class=\"tMeterScore\">57%</span></h2>"
      ]
     },
     "execution_count": 17,
     "metadata": {},
     "output_type": "execute_result"
    }
   ],
   "source": [
    "divs[0].find(\"h2\")"
   ]
  },
  {
   "cell_type": "code",
   "execution_count": 18,
   "metadata": {},
   "outputs": [
    {
     "data": {
      "text/plain": [
       "[<h2><a href=\"https://www.rottentomatoes.com/m/1018009-running_scared/\">Running Scared</a> <span class=\"subtle start-year\">(1986)</span> <span class=\"icon tiny rotten\" title=\"Rotten\"></span> <span class=\"tMeterScore\">57%</span></h2>,\n",
       " <h2><a href=\"https://www.rottentomatoes.com/m/equilibrium/\">Equilibrium</a> <span class=\"subtle start-year\">(2002)</span> <span class=\"icon tiny rotten\" title=\"Rotten\"></span> <span class=\"tMeterScore\">41%</span></h2>,\n",
       " <h2><a href=\"https://www.rottentomatoes.com/m/hero/\">Hero</a> <span class=\"subtle start-year\">(2004)</span> <span class=\"icon tiny certified\" title=\"Certified Fresh\"></span> <span class=\"tMeterScore\">95%</span></h2>,\n",
       " <h2><a href=\"https://www.rottentomatoes.com/m/1017666-road_house/\">Road House</a> <span class=\"subtle start-year\">(1989)</span> <span class=\"icon tiny rotten\" title=\"Rotten\"></span> <span class=\"tMeterScore\">39%</span></h2>,\n",
       " <h2><a href=\"https://www.rottentomatoes.com/m/unstoppable-2010/\">Unstoppable</a> <span class=\"subtle start-year\">(2010)</span> <span class=\"icon tiny certified\" title=\"Certified Fresh\"></span> <span class=\"tMeterScore\">87%</span></h2>]"
      ]
     },
     "execution_count": 18,
     "metadata": {},
     "output_type": "execute_result"
    }
   ],
   "source": [
    "# Extract all h2 tags\n",
    "headings = [ div.find(\"h2\") for div in divs ]\n",
    "headings[:5]"
   ]
  },
  {
   "cell_type": "code",
   "execution_count": 19,
   "metadata": {},
   "outputs": [
    {
     "data": {
      "text/plain": [
       "['Running Scared (1986)  57%',\n",
       " 'Equilibrium (2002)  41%',\n",
       " 'Hero (2004)  95%',\n",
       " 'Road House (1989)  39%',\n",
       " 'Unstoppable (2010)  87%']"
      ]
     },
     "execution_count": 19,
     "metadata": {},
     "output_type": "execute_result"
    }
   ],
   "source": [
    "# Inspect text inside heading\n",
    "[ heading.text for heading in headings ][:5]"
   ]
  },
  {
   "cell_type": "code",
   "execution_count": 20,
   "metadata": {},
   "outputs": [
    {
     "data": {
      "text/plain": [
       "<h2><a href=\"https://www.rottentomatoes.com/m/1018009-running_scared/\">Running Scared</a> <span class=\"subtle start-year\">(1986)</span> <span class=\"icon tiny rotten\" title=\"Rotten\"></span> <span class=\"tMeterScore\">57%</span></h2>"
      ]
     },
     "execution_count": 20,
     "metadata": {},
     "output_type": "execute_result"
    }
   ],
   "source": [
    "headings[0]"
   ]
  },
  {
   "cell_type": "code",
   "execution_count": 21,
   "metadata": {},
   "outputs": [
    {
     "data": {
      "text/plain": [
       "[<a href=\"https://www.rottentomatoes.com/m/1018009-running_scared/\">Running Scared</a>,\n",
       " <a href=\"https://www.rottentomatoes.com/m/equilibrium/\">Equilibrium</a>,\n",
       " <a href=\"https://www.rottentomatoes.com/m/hero/\">Hero</a>,\n",
       " <a href=\"https://www.rottentomatoes.com/m/1017666-road_house/\">Road House</a>,\n",
       " <a href=\"https://www.rottentomatoes.com/m/unstoppable-2010/\">Unstoppable</a>]"
      ]
     },
     "execution_count": 21,
     "metadata": {},
     "output_type": "execute_result"
    }
   ],
   "source": [
    "# Title\n",
    "[ heading.find(\"a\") for heading in headings ][:5]"
   ]
  },
  {
   "cell_type": "code",
   "execution_count": 22,
   "metadata": {},
   "outputs": [
    {
     "data": {
      "text/plain": [
       "['Running Scared', 'Equilibrium', 'Hero', 'Road House', 'Unstoppable']"
      ]
     },
     "execution_count": 22,
     "metadata": {},
     "output_type": "execute_result"
    }
   ],
   "source": [
    "# Filtering Title\n",
    "movie_names = [ heading.find(\"a\").string for heading in headings ]\n",
    "movie_names[:5]"
   ]
  },
  {
   "cell_type": "code",
   "execution_count": 23,
   "metadata": {},
   "outputs": [
    {
     "data": {
      "text/plain": [
       "[<span class=\"subtle start-year\">(1986)</span>,\n",
       " <span class=\"subtle start-year\">(2002)</span>,\n",
       " <span class=\"subtle start-year\">(2004)</span>,\n",
       " <span class=\"subtle start-year\">(1989)</span>,\n",
       " <span class=\"subtle start-year\">(2010)</span>]"
      ]
     },
     "execution_count": 23,
     "metadata": {},
     "output_type": "execute_result"
    }
   ],
   "source": [
    "# Filtering year\n",
    "[ heading.find(\"span\", class_='start-year') for heading in headings ][:5]"
   ]
  },
  {
   "cell_type": "code",
   "execution_count": 24,
   "metadata": {},
   "outputs": [
    {
     "data": {
      "text/plain": [
       "['(1986)', '(2002)', '(2004)', '(1989)', '(2010)']"
      ]
     },
     "execution_count": 24,
     "metadata": {},
     "output_type": "execute_result"
    }
   ],
   "source": [
    "# Extract year\n",
    "years = [ heading.find(\"span\", class_='start-year').string for heading in headings ]\n",
    "years[:5]"
   ]
  },
  {
   "cell_type": "code",
   "execution_count": 25,
   "metadata": {},
   "outputs": [
    {
     "data": {
      "text/plain": [
       "'(1986)'"
      ]
     },
     "execution_count": 25,
     "metadata": {},
     "output_type": "execute_result"
    }
   ],
   "source": [
    "years[0]"
   ]
  },
  {
   "cell_type": "code",
   "execution_count": 26,
   "metadata": {},
   "outputs": [
    {
     "data": {
      "text/plain": [
       "'1986'"
      ]
     },
     "execution_count": 26,
     "metadata": {},
     "output_type": "execute_result"
    }
   ],
   "source": [
    "# Remove the parenthesis\n",
    "years[0][1:5]"
   ]
  },
  {
   "cell_type": "code",
   "execution_count": 27,
   "metadata": {},
   "outputs": [
    {
     "data": {
      "text/plain": [
       "'1986'"
      ]
     },
     "execution_count": 27,
     "metadata": {},
     "output_type": "execute_result"
    }
   ],
   "source": [
    "years[0][1:-1]"
   ]
  },
  {
   "cell_type": "code",
   "execution_count": 28,
   "metadata": {},
   "outputs": [
    {
     "name": "stdout",
     "output_type": "stream",
     "text": [
      "1986)\n",
      "(1986\n"
     ]
    }
   ],
   "source": [
    "print(years[0].strip('('))\n",
    "\n",
    "print(years[0].strip(')'))"
   ]
  },
  {
   "cell_type": "code",
   "execution_count": 29,
   "metadata": {},
   "outputs": [
    {
     "name": "stdout",
     "output_type": "stream",
     "text": [
      "1986\n"
     ]
    }
   ],
   "source": [
    "print(years[0].strip('()'))"
   ]
  },
  {
   "cell_type": "code",
   "execution_count": 30,
   "metadata": {},
   "outputs": [
    {
     "data": {
      "text/plain": [
       "['1986', '2002', '2004', '1989', '2010']"
      ]
     },
     "execution_count": 30,
     "metadata": {},
     "output_type": "execute_result"
    }
   ],
   "source": [
    "years = [ year.strip('()') for year in years ]\n",
    "years[:5]"
   ]
  },
  {
   "cell_type": "code",
   "execution_count": 31,
   "metadata": {},
   "outputs": [
    {
     "data": {
      "text/plain": [
       "str"
      ]
     },
     "execution_count": 31,
     "metadata": {},
     "output_type": "execute_result"
    }
   ],
   "source": [
    "type(years[0])"
   ]
  },
  {
   "cell_type": "code",
   "execution_count": 32,
   "metadata": {},
   "outputs": [
    {
     "data": {
      "text/plain": [
       "[1986, 2002, 2004, 1989, 2010]"
      ]
     },
     "execution_count": 32,
     "metadata": {},
     "output_type": "execute_result"
    }
   ],
   "source": [
    "years = [ int(year) for year in years ]\n",
    "years[:5]"
   ]
  },
  {
   "cell_type": "code",
   "execution_count": 33,
   "metadata": {},
   "outputs": [
    {
     "data": {
      "text/plain": [
       "int"
      ]
     },
     "execution_count": 33,
     "metadata": {},
     "output_type": "execute_result"
    }
   ],
   "source": [
    "type(years[0])"
   ]
  },
  {
   "cell_type": "code",
   "execution_count": 34,
   "metadata": {},
   "outputs": [
    {
     "data": {
      "text/plain": [
       "[<span class=\"tMeterScore\">57%</span>,\n",
       " <span class=\"tMeterScore\">41%</span>,\n",
       " <span class=\"tMeterScore\">95%</span>,\n",
       " <span class=\"tMeterScore\">39%</span>,\n",
       " <span class=\"tMeterScore\">87%</span>]"
      ]
     },
     "execution_count": 34,
     "metadata": {},
     "output_type": "execute_result"
    }
   ],
   "source": [
    "# Score\n",
    "[ heading.find(\"span\", class_ = \"tMeterScore\") for heading in headings][:5]"
   ]
  },
  {
   "cell_type": "code",
   "execution_count": 35,
   "metadata": {},
   "outputs": [
    {
     "data": {
      "text/plain": [
       "['57%', '41%', '95%', '39%', '87%']"
      ]
     },
     "execution_count": 35,
     "metadata": {},
     "output_type": "execute_result"
    }
   ],
   "source": [
    "scores = [ heading.find(\"span\", class_ = \"tMeterScore\").string for heading in headings]\n",
    "scores[:5]"
   ]
  },
  {
   "cell_type": "code",
   "execution_count": 36,
   "metadata": {},
   "outputs": [
    {
     "data": {
      "text/plain": [
       "'57%'"
      ]
     },
     "execution_count": 36,
     "metadata": {},
     "output_type": "execute_result"
    }
   ],
   "source": [
    "scores[0]"
   ]
  },
  {
   "cell_type": "code",
   "execution_count": 37,
   "metadata": {},
   "outputs": [
    {
     "data": {
      "text/plain": [
       "['57', '41', '95', '39', '87']"
      ]
     },
     "execution_count": 37,
     "metadata": {},
     "output_type": "execute_result"
    }
   ],
   "source": [
    "# Remove %\n",
    "scores = [ s.strip('%') for s in scores ]\n",
    "scores[:5]"
   ]
  },
  {
   "cell_type": "code",
   "execution_count": 38,
   "metadata": {},
   "outputs": [
    {
     "data": {
      "text/plain": [
       "'57'"
      ]
     },
     "execution_count": 38,
     "metadata": {},
     "output_type": "execute_result"
    }
   ],
   "source": [
    "scores[0]"
   ]
  },
  {
   "cell_type": "code",
   "execution_count": 39,
   "metadata": {},
   "outputs": [
    {
     "data": {
      "text/plain": [
       "str"
      ]
     },
     "execution_count": 39,
     "metadata": {},
     "output_type": "execute_result"
    }
   ],
   "source": [
    "type(scores[0])"
   ]
  },
  {
   "cell_type": "code",
   "execution_count": 40,
   "metadata": {},
   "outputs": [
    {
     "data": {
      "text/plain": [
       "[57, 41, 95, 39, 87]"
      ]
     },
     "execution_count": 40,
     "metadata": {},
     "output_type": "execute_result"
    }
   ],
   "source": [
    "scores = [int(s) for s in scores]\n",
    "scores[:5]"
   ]
  },
  {
   "cell_type": "code",
   "execution_count": 41,
   "metadata": {},
   "outputs": [
    {
     "data": {
      "text/plain": [
       "57"
      ]
     },
     "execution_count": 41,
     "metadata": {},
     "output_type": "execute_result"
    }
   ],
   "source": [
    "scores[0]"
   ]
  },
  {
   "cell_type": "code",
   "execution_count": 42,
   "metadata": {},
   "outputs": [
    {
     "data": {
      "text/plain": [
       "int"
      ]
     },
     "execution_count": 42,
     "metadata": {},
     "output_type": "execute_result"
    }
   ],
   "source": [
    "type(scores[0])"
   ]
  },
  {
   "cell_type": "code",
   "execution_count": 43,
   "metadata": {},
   "outputs": [
    {
     "data": {
      "text/plain": [
       "[<div class=\"col-sm-18 col-full-xs countdown-item-content\">\n",
       " <div class=\"row countdown-item-title-bar\">\n",
       " <div class=\"col-sm-20 col-full-xs\" style=\"height: 100%;\">\n",
       " <div class=\"article_movie_title\" style=\"float: left;\">\n",
       " <div><h2><a href=\"https://www.rottentomatoes.com/m/1018009-running_scared/\">Running Scared</a> <span class=\"subtle start-year\">(1986)</span> <span class=\"icon tiny rotten\" title=\"Rotten\"></span> <span class=\"tMeterScore\">57%</span></h2></div>\n",
       " </div>\n",
       " </div>\n",
       " <div class=\"col-sm-4 col-full-xs\" style=\"height: 100%;\">\n",
       " <div class=\"countdown-index\">#140</div>\n",
       " </div>\n",
       " </div>\n",
       " <div class=\"row countdown-item-details\">\n",
       " <div class=\"col-sm-24\">\n",
       " <div class=\"info countdown-adjusted-score\"><span class=\"descriptor\">Adjusted Score: </span>58.247% <span class=\"glyphicon glyphicon-question-sign\" data-html=\"true\" data-original-title=\"The Adjusted Score comes from a weighted formula (Bayesian) that we use that accounts for variation in the number of reviews per movie.\" data-placement=\"top\" data-toggle=\"tooltip\" rel=\"tooltip\" title=\"\"></span></div>\n",
       " <div class=\"info critics-consensus\"><span class=\"descriptor\">Critics Consensus:</span> Running Scared struggles to strike a consistent balance between violent action and humor, but the chemistry between its well-matched leads keeps things entertaining.</div>\n",
       " <div class=\"info synopsis\"><span class=\"descriptor\">Synopsis:</span> Distinguished by a sharp, witty dialogue between its two cop protagonists, Ray and Danny (Gregory Hines and Billy Crystal), this...<a class=\"\" data-pageheader=\"\" href=\"https://www.rottentomatoes.com/m/1018009-running_scared/\" target=\"_top\"> [More]</a></div>\n",
       " <div class=\"info cast\">\n",
       " <span class=\"descriptor\">Starring:</span> <a class=\"\" href=\"/celebrity/gregory_hines/\">Gregory Hines</a>, <a class=\"\" href=\"/celebrity/billy_crystal/\">Billy Crystal</a>, <a class=\"\" href=\"/celebrity/jimmy_smits/\">Jimmy Smits</a>, <a class=\"\" href=\"/celebrity/steven_bauer/\">Steven Bauer</a></div>\n",
       " <div class=\"info director\">\n",
       " <span class=\"descriptor\">Directed By:</span> <a class=\"\" href=\"/celebrity/peter_hyams/\">Peter Hyams</a></div>\n",
       " </div>\n",
       " </div>\n",
       " </div>]"
      ]
     },
     "execution_count": 43,
     "metadata": {},
     "output_type": "execute_result"
    }
   ],
   "source": [
    "#  Critics Consensus\n",
    "divs[:1]"
   ]
  },
  {
   "cell_type": "code",
   "execution_count": 45,
   "metadata": {},
   "outputs": [
    {
     "data": {
      "text/plain": [
       "[<div class=\"info critics-consensus\"><span class=\"descriptor\">Critics Consensus:</span> Running Scared struggles to strike a consistent balance between violent action and humor, but the chemistry between its well-matched leads keeps things entertaining.</div>,\n",
       " <div class=\"info critics-consensus\"><span class=\"descriptor\">Critics Consensus:</span> Equilibrium is a reheated mishmash of other sci-fi movies.</div>,\n",
       " <div class=\"info critics-consensus\"><span class=\"descriptor\">Critics Consensus:</span> With death-defying action sequences and epic historic sweep, Hero offers everything a martial arts fan could ask for.</div>,\n",
       " <div class=\"info critics-consensus\"><span class=\"descriptor\">Critics Consensus:</span> Whether Road House is simply bad or so bad it's good depends largely on the audience's fondness for Swayze -- and tolerance for violently cheesy action.</div>,\n",
       " <div class=\"info critics-consensus\"><span class=\"descriptor\">Critics Consensus:</span> As fast, loud, and relentless as the train at the center of the story, Unstoppable is perfect popcorn entertainment -- and director Tony Scott's best movie in years.</div>]"
      ]
     },
     "execution_count": 45,
     "metadata": {},
     "output_type": "execute_result"
    }
   ],
   "source": [
    "consensus = [div.find(\"div\",{ \"class\":\"info critics-consensus\" }) for div in divs]\n",
    "consensus[:5]"
   ]
  },
  {
   "cell_type": "code",
   "execution_count": 46,
   "metadata": {},
   "outputs": [
    {
     "data": {
      "text/plain": [
       "['Critics Consensus: Running Scared struggles to strike a consistent balance between violent action and humor, but the chemistry between its well-matched leads keeps things entertaining.',\n",
       " 'Critics Consensus: Equilibrium is a reheated mishmash of other sci-fi movies.',\n",
       " 'Critics Consensus: With death-defying action sequences and epic historic sweep, Hero offers everything a martial arts fan could ask for.',\n",
       " \"Critics Consensus: Whether Road House is simply bad or so bad it's good depends largely on the audience's fondness for Swayze -- and tolerance for violently cheesy action.\",\n",
       " \"Critics Consensus: As fast, loud, and relentless as the train at the center of the story, Unstoppable is perfect popcorn entertainment -- and director Tony Scott's best movie in years.\"]"
      ]
     },
     "execution_count": 46,
     "metadata": {},
     "output_type": "execute_result"
    }
   ],
   "source": [
    "[con.text for con in consensus][:5]"
   ]
  },
  {
   "cell_type": "code",
   "execution_count": 47,
   "metadata": {},
   "outputs": [
    {
     "data": {
      "text/plain": [
       "17"
      ]
     },
     "execution_count": 47,
     "metadata": {},
     "output_type": "execute_result"
    }
   ],
   "source": [
    "# Remove common phrase 'Critics Consensus'\n",
    "common_phrase = \"Critics Consensus\"\n",
    "len(common_phrase)"
   ]
  },
  {
   "cell_type": "code",
   "execution_count": 49,
   "metadata": {},
   "outputs": [
    {
     "data": {
      "text/plain": [
       "'Critics Consensus: Running Scared struggles to strike a consistent balance between violent action and humor, but the chemistry between its well-matched leads keeps things entertaining.'"
      ]
     },
     "execution_count": 49,
     "metadata": {},
     "output_type": "execute_result"
    }
   ],
   "source": [
    "consensus[0].text"
   ]
  },
  {
   "cell_type": "code",
   "execution_count": 54,
   "metadata": {},
   "outputs": [
    {
     "data": {
      "text/plain": [
       "['Running Scared struggles to strike a consistent balance between violent action and humor, but the chemistry between its well-matched leads keeps things entertaining.',\n",
       " 'Equilibrium is a reheated mishmash of other sci-fi movies.',\n",
       " 'With death-defying action sequences and epic historic sweep, Hero offers everything a martial arts fan could ask for.',\n",
       " \"Whether Road House is simply bad or so bad it's good depends largely on the audience's fondness for Swayze -- and tolerance for violently cheesy action.\",\n",
       " \"As fast, loud, and relentless as the train at the center of the story, Unstoppable is perfect popcorn entertainment -- and director Tony Scott's best movie in years.\"]"
      ]
     },
     "execution_count": 54,
     "metadata": {},
     "output_type": "execute_result"
    }
   ],
   "source": [
    "common_len = len(common_phrase)\n",
    "\n",
    "consensus_text = [ con.text[common_len+2:] for con in consensus ]\n",
    "consensus_text[:5]"
   ]
  },
  {
   "cell_type": "code",
   "execution_count": 55,
   "metadata": {},
   "outputs": [
    {
     "data": {
      "text/plain": [
       "'Running Scared struggles to strike a consistent balance between violent action and humor, but the chemistry between its well-matched leads keeps things entertaining.'"
      ]
     },
     "execution_count": 55,
     "metadata": {},
     "output_type": "execute_result"
    }
   ],
   "source": [
    "consensus_text[0]"
   ]
  },
  {
   "cell_type": "code",
   "execution_count": 60,
   "metadata": {},
   "outputs": [
    {
     "data": {
      "text/plain": [
       "[<div class=\"info director\">\n",
       " <span class=\"descriptor\">Directed By:</span> <a class=\"\" href=\"/celebrity/peter_hyams/\">Peter Hyams</a></div>,\n",
       " <div class=\"info director\">\n",
       " <span class=\"descriptor\">Directed By:</span> <a class=\"\" href=\"/celebrity/kurt_wimmer/\">Kurt Wimmer</a></div>,\n",
       " <div class=\"info director\">\n",
       " <span class=\"descriptor\">Directed By:</span> <a class=\"\" href=\"/celebrity/zhang_yimou/\">Zhang Yimou</a></div>,\n",
       " <div class=\"info director\">\n",
       " <span class=\"descriptor\">Directed By:</span> <a class=\"\" href=\"/celebrity/rowdy_herrington/\">Rowdy Herrington</a></div>,\n",
       " <div class=\"info director\">\n",
       " <span class=\"descriptor\">Directed By:</span> <a class=\"\" href=\"/celebrity/tony_scott/\">Tony Scott</a></div>]"
      ]
     },
     "execution_count": 60,
     "metadata": {},
     "output_type": "execute_result"
    }
   ],
   "source": [
    "# Directors\n",
    "directors = [div.find(\"div\", class_ = \"director\") for div in divs]\n",
    "directors[:5]"
   ]
  },
  {
   "cell_type": "code",
   "execution_count": 61,
   "metadata": {},
   "outputs": [
    {
     "data": {
      "text/plain": [
       "<div class=\"info director\">\n",
       "<span class=\"descriptor\">Directed By:</span> <a class=\"\" href=\"/celebrity/peter_hyams/\">Peter Hyams</a></div>"
      ]
     },
     "execution_count": 61,
     "metadata": {},
     "output_type": "execute_result"
    }
   ],
   "source": [
    "directors[0]"
   ]
  },
  {
   "cell_type": "code",
   "execution_count": 62,
   "metadata": {},
   "outputs": [
    {
     "data": {
      "text/plain": [
       "[<a class=\"\" href=\"/celebrity/peter_hyams/\">Peter Hyams</a>,\n",
       " <a class=\"\" href=\"/celebrity/kurt_wimmer/\">Kurt Wimmer</a>,\n",
       " <a class=\"\" href=\"/celebrity/zhang_yimou/\">Zhang Yimou</a>,\n",
       " <a class=\"\" href=\"/celebrity/rowdy_herrington/\">Rowdy Herrington</a>,\n",
       " <a class=\"\" href=\"/celebrity/tony_scott/\">Tony Scott</a>,\n",
       " <a class=\"\" href=\"/celebrity/gordon_parks/\">Gordon Parks</a>,\n",
       " <a class=\"\" href=\"/celebrity/jung_byoung_gil/\">Jung Byung-gil</a>,\n",
       " <a class=\"\" href=\"/celebrity/russell_mulcahy/\">Russell Mulcahy</a>,\n",
       " <a class=\"\" href=\"/celebrity/renny_harlin/\">Renny Harlin</a>,\n",
       " <a class=\"\" href=\"/celebrity/jon_turteltaub/\">Jon Turteltaub</a>,\n",
       " <a class=\"\" href=\"/celebrity/prachya_pinkaew/\">Prachya Pinkaew</a>,\n",
       " <a class=\"\" href=\"/celebrity/coralie_fargeat/\">Coralie Fargeat</a>,\n",
       " <a class=\"\" href=\"/celebrity/robert_rodriguez/\">Robert Rodriguez</a>,\n",
       " <a class=\"\" href=\"/celebrity/king_hu/\">King Hu</a>,\n",
       " <a class=\"\" href=\"/celebrity/tony_scott/\">Tony Scott</a>,\n",
       " <a class=\"\" href=\"/celebrity/simon_west/\">Simon West</a>,\n",
       " <a class=\"\" href=\"/celebrity/simon_west/\">Simon West</a>,\n",
       " <a class=\"\" href=\"/celebrity/stephen_sommers/\">Stephen Sommers</a>,\n",
       " <a class=\"\" href=\"/celebrity/doug_liman/\">Doug Liman</a>,\n",
       " <a class=\"\" href=\"/celebrity/brett_ratner/\">Brett Ratner</a>,\n",
       " <a class=\"\" href=\"/celebrity/antoine_fuqua/\">Antoine Fuqua</a>,\n",
       " <a class=\"\" href=\"/celebrity/anthony_russo/\">Anthony Russo</a>,\n",
       " <a class=\"\" href=\"/celebrity/wolfgang_petersen/\">Wolfgang Petersen</a>,\n",
       " <a class=\"\" href=\"/celebrity/newt_arnold/\">Newt Arnold</a>,\n",
       " <a class=\"\" href=\"/celebrity/steve_norrington/\">Stephen Norrington</a>,\n",
       " <a class=\"\" href=\"/celebrity/michael_bay/\">Michael Bay</a>,\n",
       " <a class=\"\" href=\"/celebrity/john_mctiernan/\">John McTiernan</a>,\n",
       " <a class=\"\" href=\"/celebrity/paul_michael_glaser/\">Paul Michael Glaser</a>,\n",
       " <a class=\"\" href=\"/celebrity/1022918-andrew_davis/\">Andrew Davis</a>,\n",
       " <a class=\"\" href=\"/celebrity/1029950-michael_davis/\">Michael Davis</a>,\n",
       " <a class=\"\" href=\"/celebrity/mark_neveldine/\">Mark Neveldine</a>,\n",
       " <a class=\"\" href=\"/celebrity/ethan_maniquis/\">Ethan Maniquis</a>,\n",
       " <a class=\"\" href=\"/celebrity/nicholas_winding_refn/\">Nicolas Winding Refn</a>,\n",
       " <a class=\"\" href=\"/celebrity/tim_burton/\">Tim Burton</a>,\n",
       " <a class=\"\" href=\"/celebrity/1022918-andrew_davis/\">Andrew Davis</a>,\n",
       " <a class=\"\" href=\"/celebrity/roland_emmerich/\">Roland Emmerich</a>,\n",
       " <a class=\"\" href=\"/celebrity/peter_yates/\">Peter Yates</a>,\n",
       " <a class=\"\" href=\"/celebrity/timbor_bekmambetov/\">Timur Bekmambetov</a>,\n",
       " <a class=\"\" href=\"/celebrity/richard_donner/\">Richard Donner</a>,\n",
       " <a class=\"\" href=\"/celebrity/john_frankenheimer/\">John Frankenheimer</a>,\n",
       " <a class=\"\" href=\"/celebrity/1040928-john_carpenter/\">John Carpenter</a>,\n",
       " <a class=\"\" href=\"/celebrity/renny_harlin/\">Renny Harlin</a>,\n",
       " None,\n",
       " <a class=\"\" href=\"/celebrity/pegg_and_edgar_wright_shaun_of_the_dead/\">Edgar Wright</a>,\n",
       " <a class=\"\" href=\"/celebrity/walter_hill/\">Walter Hill</a>,\n",
       " <a class=\"\" href=\"/celebrity/paul_verhoeven/\">Paul Verhoeven</a>,\n",
       " <a class=\"\" href=\"/celebrity/jose_padilha/\">José Padilha</a>,\n",
       " <a class=\"\" href=\"/celebrity/kathryn_bigelow/\">Kathryn Bigelow</a>,\n",
       " <a class=\"\" href=\"/celebrity/renny_harlin/\">Renny Harlin</a>,\n",
       " <a class=\"\" href=\"/celebrity/adam_wingard/\">Adam Wingard</a>,\n",
       " <a class=\"\" href=\"/celebrity/pierre_morel/\">Pierre Morel</a>,\n",
       " <a class=\"\" href=\"/celebrity/zack_snyder/\">Zack Snyder</a>,\n",
       " <a class=\"\" href=\"/celebrity/james_cameron/\">James Cameron</a>,\n",
       " <a class=\"\" href=\"/celebrity/marco_brambilla/\">Marco Brambilla</a>,\n",
       " <a class=\"\" href=\"/celebrity/ilya_naishuller/\">Ilya Naishuller</a>,\n",
       " <a class=\"\" href=\"/celebrity/jackie_chan/\">Jackie Chan</a>,\n",
       " <a class=\"\" href=\"/celebrity/christophe_gans/\">Christophe Gans</a>,\n",
       " <a class=\"\" href=\"/celebrity/matthew_vaughn_2/\">Matthew Vaughn</a>,\n",
       " <a class=\"\" href=\"/celebrity/luc_besson/\">Luc Besson</a>,\n",
       " <a class=\"\" href=\"/celebrity/1040928-john_carpenter/\">John Carpenter</a>,\n",
       " <a class=\"\" href=\"/celebrity/david_leitch/\">David Leitch</a>,\n",
       " <a class=\"\" href=\"/celebrity/stanley_tong/\">Stanley Tong</a>,\n",
       " <a class=\"\" href=\"/celebrity/pierre_morel/\">Pierre Morel</a>,\n",
       " <a class=\"\" href=\"/celebrity/martin_brest/\">Martin Brest</a>,\n",
       " <a class=\"\" href=\"/celebrity/prachya_pinkaew/\">Prachya Pinkaew</a>,\n",
       " <a class=\"\" href=\"/celebrity/michael_mann/\">Michael Mann</a>,\n",
       " <a class=\"\" href=\"/celebrity/yuen_woping/\">Woo-ping Yuen</a>,\n",
       " <a class=\"\" href=\"/celebrity/1040928-john_carpenter/\">John Carpenter</a>,\n",
       " <a class=\"\" href=\"/celebrity/kinji_fukasaku/\">Kinji Fukasaku</a>,\n",
       " <a class=\"\" href=\"/celebrity/sam_raimi/\">Sam Raimi</a>,\n",
       " <a class=\"\" href=\"/celebrity/takashi_miike/\">Takashi Miike</a>,\n",
       " <a class=\"\" href=\"/celebrity/ringo_lam/\">Ringo Lam</a>,\n",
       " <a class=\"\" href=\"/celebrity/steve_spielberg/\">Steven Spielberg</a>,\n",
       " <a class=\"\" href=\"/celebrity/stephen_chow/\">Stephen Chow</a>,\n",
       " <a class=\"\" href=\"/celebrity/haesung_song/\">Hae-sung Song</a>,\n",
       " None,\n",
       " <a class=\"\" href=\"/celebrity/timo_tjahjanto/\">Timo Tjahjanto</a>,\n",
       " <a class=\"\" href=\"/celebrity/james_mangold/\">James Mangold</a>,\n",
       " <a class=\"\" href=\"/celebrity/guy_hamilton/\">Guy Hamilton</a>,\n",
       " <a class=\"\" href=\"/celebrity/1040928-john_carpenter/\">John Carpenter</a>,\n",
       " <a class=\"\" href=\"/celebrity/patty_jenkins/\">Patty Jenkins</a>,\n",
       " None,\n",
       " <a class=\"\" href=\"/celebrity/joe_russo/\">Joe Russo</a>,\n",
       " <a class=\"\" href=\"/celebrity/chan_wook_park/\">Park Chan-wook</a>,\n",
       " <a class=\"\" href=\"/celebrity/william_friedkin/\">William Friedkin</a>,\n",
       " <a class=\"\" href=\"/celebrity/james_wan/\">James Wan</a>,\n",
       " <a class=\"\" href=\"/celebrity/luc_besson/\">Luc Besson</a>,\n",
       " <a class=\"\" href=\"/celebrity/stanley_tong/\">Stanley Tong</a>,\n",
       " <a class=\"\" href=\"/celebrity/don_siegel/\">Don Siegel</a>,\n",
       " <a class=\"\" href=\"/celebrity/doug_liman/\">Doug Liman</a>,\n",
       " <a class=\"\" href=\"/celebrity/bryan_singer/\">Bryan Singer</a>,\n",
       " <a class=\"\" href=\"/celebrity/1022918-andrew_davis/\">Andrew Davis</a>,\n",
       " <a class=\"\" href=\"/celebrity/ryan_coogler/\">Ryan Coogler</a>,\n",
       " <a class=\"\" href=\"/celebrity/christopher_nolan/\">Christopher Nolan</a>,\n",
       " <a class=\"\" href=\"/celebrity/mel_gibson/\">Mel Gibson</a>,\n",
       " <a class=\"\" href=\"/celebrity/steve_spielberg/\">Steven Spielberg</a>,\n",
       " <a class=\"\" href=\"/celebrity/anthony_russo/\">Anthony Russo</a>,\n",
       " <a class=\"\" href=\"/celebrity/peter_travis/\">Pete Travis</a>,\n",
       " <a class=\"\" href=\"/celebrity/doug_liman/\">Doug Liman</a>,\n",
       " <a class=\"\" href=\"/celebrity/wilson_yip/\">Wilson Yip</a>,\n",
       " <a class=\"\" href=\"/celebrity/john_woo/\">John Woo</a>,\n",
       " <a class=\"\" href=\"/celebrity/william_friedkin/\">William Friedkin</a>,\n",
       " <a class=\"\" href=\"/celebrity/christopher_nolan/\">Christopher Nolan</a>,\n",
       " <a class=\"\" href=\"/celebrity/brad_bird/\">Brad Bird</a>,\n",
       " <a class=\"\" href=\"/celebrity/justin_lin/\">Justin Lin</a>,\n",
       " <a class=\"\" href=\"/celebrity/richard_donner/\">Richard Donner</a>,\n",
       " <a class=\"\" href=\"/celebrity/michael_bay/\">Michael Bay</a>,\n",
       " <a class=\"\" href=\"/celebrity/paul_verhoeven/\">Paul Verhoeven</a>,\n",
       " <a class=\"\" href=\"/celebrity/chad_stahelski_2/\">Chad Stahelski</a>,\n",
       " <a class=\"\" href=\"/celebrity/martin_campbell/\">Martin Campbell</a>,\n",
       " <a class=\"\" href=\"/celebrity/pegg_and_edgar_wright_shaun_of_the_dead/\">Edgar Wright</a>,\n",
       " <a class=\"\" href=\"/celebrity/gordon_chan/\">Gordon Chan</a>,\n",
       " <a class=\"\" href=\"/celebrity/john_woo/\">John Woo</a>,\n",
       " <a class=\"\" href=\"/celebrity/gareth_evans/\">Gareth Evans</a>,\n",
       " <a class=\"\" href=\"/celebrity/robert_clouse/\">Robert Clouse</a>,\n",
       " <a class=\"\" href=\"/celebrity/mark_l_lester/\">Mark L. Lester</a>,\n",
       " <a class=\"\" href=\"/celebrity/ted_kotcheff/\">Ted Kotcheff</a>,\n",
       " <a class=\"\" href=\"/celebrity/christopher_mcquarrie/\">Christopher McQuarrie</a>,\n",
       " <a class=\"\" href=\"/celebrity/james_cameron/\">James Cameron</a>,\n",
       " <a class=\"\" href=\"/celebrity/director-ridley-scott/\">Ridley Scott</a>,\n",
       " <a class=\"\" href=\"/celebrity/quentin_tarantino/\">Quentin Tarantino</a>,\n",
       " <a class=\"\" href=\"/celebrity/luc_besson/\">Luc Besson</a>,\n",
       " <a class=\"\" href=\"/celebrity/jan_de_bont/\">Jan de Bont</a>,\n",
       " <a class=\"\" href=\"/celebrity/lau_karleung/\">Lau Kar-Leung</a>,\n",
       " <a class=\"\" href=\"/celebrity/david_leitch/\">David Leitch</a>,\n",
       " <a class=\"\" href=\"/celebrity/ang_lee/\">Ang Lee</a>,\n",
       " <a class=\"\" href=\"/celebrity/shane_black/\">Shane Black</a>,\n",
       " <a class=\"\" href=\"/celebrity/paul_greengrass/\">Paul Greengrass</a>,\n",
       " <a class=\"\" href=\"/celebrity/paul_verhoeven/\">Paul Verhoeven</a>,\n",
       " <a class=\"\" href=\"/celebrity/1042523-george_miller/\">George Miller</a>,\n",
       " <a class=\"\" href=\"/celebrity/michael_mann/\">Michael Mann</a>,\n",
       " <a class=\"\" href=\"/celebrity/gareth_evans/\">Gareth Evans</a>,\n",
       " <a class=\"\" href=\"/celebrity/christopher_mcquarrie/\">Christopher McQuarrie</a>,\n",
       " <a class=\"\" href=\"/celebrity/steve_spielberg/\">Steven Spielberg</a>,\n",
       " <a class=\"\" href=\"/celebrity/james_cameron/\">James Cameron</a>,\n",
       " <a class=\"\" href=\"/celebrity/john_woo/\">John Woo</a>,\n",
       " <a class=\"\" href=\"/celebrity/lilly_wachowski/\">Lilly Wachowski</a>,\n",
       " <a class=\"\" href=\"/celebrity/james_cameron/\">James Cameron</a>,\n",
       " <a class=\"\" href=\"/celebrity/john_mctiernan/\">John McTiernan</a>,\n",
       " <a class=\"\" href=\"/celebrity/1042523-george_miller/\">George Miller</a>]"
      ]
     },
     "execution_count": 62,
     "metadata": {},
     "output_type": "execute_result"
    }
   ],
   "source": [
    "[ director.find('a') for director in directors ]\n",
    "# Some values are missing"
   ]
  },
  {
   "cell_type": "code",
   "execution_count": 63,
   "metadata": {},
   "outputs": [
    {
     "data": {
      "text/plain": [
       "['Peter Hyams',\n",
       " 'Kurt Wimmer',\n",
       " 'Zhang Yimou',\n",
       " 'Rowdy Herrington',\n",
       " 'Tony Scott',\n",
       " 'Gordon Parks',\n",
       " 'Jung Byung-gil',\n",
       " 'Russell Mulcahy',\n",
       " 'Renny Harlin',\n",
       " 'Jon Turteltaub',\n",
       " 'Prachya Pinkaew',\n",
       " 'Coralie Fargeat',\n",
       " 'Robert Rodriguez',\n",
       " 'King Hu',\n",
       " 'Tony Scott',\n",
       " 'Simon West',\n",
       " 'Simon West',\n",
       " 'Stephen Sommers',\n",
       " 'Doug Liman',\n",
       " 'Brett Ratner',\n",
       " 'Antoine Fuqua',\n",
       " 'Anthony Russo',\n",
       " 'Wolfgang Petersen',\n",
       " 'Newt Arnold',\n",
       " 'Stephen Norrington',\n",
       " 'Michael Bay',\n",
       " 'John McTiernan',\n",
       " 'Paul Michael Glaser',\n",
       " 'Andrew Davis',\n",
       " 'Michael Davis',\n",
       " 'Mark Neveldine',\n",
       " 'Ethan Maniquis',\n",
       " 'Nicolas Winding Refn',\n",
       " 'Tim Burton',\n",
       " 'Andrew Davis',\n",
       " 'Roland Emmerich',\n",
       " 'Peter Yates',\n",
       " 'Timur Bekmambetov',\n",
       " 'Richard Donner',\n",
       " 'John Frankenheimer',\n",
       " 'John Carpenter',\n",
       " 'Renny Harlin',\n",
       " None,\n",
       " 'Edgar Wright',\n",
       " 'Walter Hill',\n",
       " 'Paul Verhoeven',\n",
       " 'José Padilha',\n",
       " 'Kathryn Bigelow',\n",
       " 'Renny Harlin',\n",
       " 'Adam Wingard',\n",
       " 'Pierre Morel',\n",
       " 'Zack Snyder',\n",
       " 'James Cameron',\n",
       " 'Marco Brambilla',\n",
       " 'Ilya Naishuller',\n",
       " 'Jackie Chan',\n",
       " 'Christophe Gans',\n",
       " 'Matthew Vaughn',\n",
       " 'Luc Besson',\n",
       " 'John Carpenter',\n",
       " 'David Leitch',\n",
       " 'Stanley Tong',\n",
       " 'Pierre Morel',\n",
       " 'Martin Brest',\n",
       " 'Prachya Pinkaew',\n",
       " 'Michael Mann',\n",
       " 'Woo-ping Yuen',\n",
       " 'John Carpenter',\n",
       " 'Kinji Fukasaku',\n",
       " 'Sam Raimi',\n",
       " 'Takashi Miike',\n",
       " 'Ringo Lam',\n",
       " 'Steven Spielberg',\n",
       " 'Stephen Chow',\n",
       " 'Hae-sung Song',\n",
       " None,\n",
       " 'Timo Tjahjanto',\n",
       " 'James Mangold',\n",
       " 'Guy Hamilton',\n",
       " 'John Carpenter',\n",
       " 'Patty Jenkins',\n",
       " None,\n",
       " 'Joe Russo',\n",
       " 'Park Chan-wook',\n",
       " 'William Friedkin',\n",
       " 'James Wan',\n",
       " 'Luc Besson',\n",
       " 'Stanley Tong',\n",
       " 'Don Siegel',\n",
       " 'Doug Liman',\n",
       " 'Bryan Singer',\n",
       " 'Andrew Davis',\n",
       " 'Ryan Coogler',\n",
       " 'Christopher Nolan',\n",
       " 'Mel Gibson',\n",
       " 'Steven Spielberg',\n",
       " 'Anthony Russo',\n",
       " 'Pete Travis',\n",
       " 'Doug Liman',\n",
       " 'Wilson Yip',\n",
       " 'John Woo',\n",
       " 'William Friedkin',\n",
       " 'Christopher Nolan',\n",
       " 'Brad Bird',\n",
       " 'Justin Lin',\n",
       " 'Richard Donner',\n",
       " 'Michael Bay',\n",
       " 'Paul Verhoeven',\n",
       " 'Chad Stahelski',\n",
       " 'Martin Campbell',\n",
       " 'Edgar Wright',\n",
       " 'Gordon Chan',\n",
       " 'John Woo',\n",
       " 'Gareth Evans',\n",
       " 'Robert Clouse',\n",
       " 'Mark L. Lester',\n",
       " 'Ted Kotcheff',\n",
       " 'Christopher McQuarrie',\n",
       " 'James Cameron',\n",
       " 'Ridley Scott',\n",
       " 'Quentin Tarantino',\n",
       " 'Luc Besson',\n",
       " 'Jan de Bont',\n",
       " 'Lau Kar-Leung',\n",
       " 'David Leitch',\n",
       " 'Ang Lee',\n",
       " 'Shane Black',\n",
       " 'Paul Greengrass',\n",
       " 'Paul Verhoeven',\n",
       " 'George Miller',\n",
       " 'Michael Mann',\n",
       " 'Gareth Evans',\n",
       " 'Christopher McQuarrie',\n",
       " 'Steven Spielberg',\n",
       " 'James Cameron',\n",
       " 'John Woo',\n",
       " 'Lilly Wachowski',\n",
       " 'James Cameron',\n",
       " 'John McTiernan',\n",
       " 'George Miller']"
      ]
     },
     "execution_count": 63,
     "metadata": {},
     "output_type": "execute_result"
    }
   ],
   "source": [
    "# List comprehension using if else\n",
    "final_directors = [ None if director.find(\"a\") is None else director.find(\"a\").string for director in directors ]\n",
    "final_directors"
   ]
  },
  {
   "cell_type": "code",
   "execution_count": 64,
   "metadata": {},
   "outputs": [
    {
     "data": {
      "text/plain": [
       "[<div class=\"info cast\">\n",
       " <span class=\"descriptor\">Starring:</span> <a class=\"\" href=\"/celebrity/gregory_hines/\">Gregory Hines</a>, <a class=\"\" href=\"/celebrity/billy_crystal/\">Billy Crystal</a>, <a class=\"\" href=\"/celebrity/jimmy_smits/\">Jimmy Smits</a>, <a class=\"\" href=\"/celebrity/steven_bauer/\">Steven Bauer</a></div>,\n",
       " <div class=\"info cast\">\n",
       " <span class=\"descriptor\">Starring:</span> <a class=\"\" href=\"/celebrity/christian_bale/\">Christian Bale</a>, <a class=\"\" href=\"/celebrity/emily_watson/\">Emily Watson</a>, <a class=\"\" href=\"/celebrity/taye_diggs/\">Taye Diggs</a>, <a class=\"\" href=\"/celebrity/angus_macfadyen/\">Angus Macfadyen</a></div>,\n",
       " <div class=\"info cast\">\n",
       " <span class=\"descriptor\">Starring:</span> <a class=\"\" href=\"/celebrity/jet_li/\">Jet Li</a>, <a class=\"\" href=\"/celebrity/leung_chiu_wai/\">Tony Leung Chiu Wai</a>, <a class=\"\" href=\"/celebrity/maggie_cheung_manyuk/\">Maggie Cheung</a>, <a class=\"\" href=\"/celebrity/daoming_chen/\">Daoming Chen</a></div>,\n",
       " <div class=\"info cast\">\n",
       " <span class=\"descriptor\">Starring:</span> <a class=\"\" href=\"/celebrity/patrick_swayze/\">Patrick Swayze</a>, <a class=\"\" href=\"/celebrity/kelly_lynch/\">Kelly Lynch</a>, <a class=\"\" href=\"/celebrity/sam_elliott/\">Sam Elliott</a>, <a class=\"\" href=\"/celebrity/ben_gazzara/\">Ben Gazzara</a></div>,\n",
       " <div class=\"info cast\">\n",
       " <span class=\"descriptor\">Starring:</span> <a class=\"\" href=\"/celebrity/denzel_washington/\">Denzel Washington</a>, <a class=\"\" href=\"/celebrity/christopher_pine/\">Chris Pine</a>, <a class=\"\" href=\"/celebrity/rasario_dawson/\">Rosario Dawson</a>, <a class=\"\" href=\"/celebrity/ethan_suplee/\">Ethan Suplee</a></div>]"
      ]
     },
     "execution_count": 64,
     "metadata": {},
     "output_type": "execute_result"
    }
   ],
   "source": [
    "# Cast Info\n",
    "cast_info = [ div.find(\"div\", class_ = 'cast') for div in divs ]\n",
    "cast_info[:5]"
   ]
  },
  {
   "cell_type": "code",
   "execution_count": 65,
   "metadata": {},
   "outputs": [
    {
     "data": {
      "text/plain": [
       "<div class=\"info cast\">\n",
       "<span class=\"descriptor\">Starring:</span> <a class=\"\" href=\"/celebrity/gregory_hines/\">Gregory Hines</a>, <a class=\"\" href=\"/celebrity/billy_crystal/\">Billy Crystal</a>, <a class=\"\" href=\"/celebrity/jimmy_smits/\">Jimmy Smits</a>, <a class=\"\" href=\"/celebrity/steven_bauer/\">Steven Bauer</a></div>"
      ]
     },
     "execution_count": 65,
     "metadata": {},
     "output_type": "execute_result"
    }
   ],
   "source": [
    "cast_info[0]"
   ]
  },
  {
   "cell_type": "code",
   "execution_count": 66,
   "metadata": {},
   "outputs": [
    {
     "data": {
      "text/plain": [
       "[<a class=\"\" href=\"/celebrity/gregory_hines/\">Gregory Hines</a>,\n",
       " <a class=\"\" href=\"/celebrity/billy_crystal/\">Billy Crystal</a>,\n",
       " <a class=\"\" href=\"/celebrity/jimmy_smits/\">Jimmy Smits</a>,\n",
       " <a class=\"\" href=\"/celebrity/steven_bauer/\">Steven Bauer</a>]"
      ]
     },
     "execution_count": 66,
     "metadata": {},
     "output_type": "execute_result"
    }
   ],
   "source": [
    "cast_links = cast_info[0].find_all(\"a\")\n",
    "cast_links"
   ]
  },
  {
   "cell_type": "code",
   "execution_count": 67,
   "metadata": {},
   "outputs": [
    {
     "data": {
      "text/plain": [
       "['Gregory Hines', 'Billy Crystal', 'Jimmy Smits', 'Steven Bauer']"
      ]
     },
     "execution_count": 67,
     "metadata": {},
     "output_type": "execute_result"
    }
   ],
   "source": [
    "cast_names = [ link.string for link in cast_links ]\n",
    "cast_names"
   ]
  },
  {
   "cell_type": "code",
   "execution_count": 68,
   "metadata": {},
   "outputs": [
    {
     "data": {
      "text/plain": [
       "'Gregory Hines,Billy Crystal,Jimmy Smits,Steven Bauer'"
      ]
     },
     "execution_count": 68,
     "metadata": {},
     "output_type": "execute_result"
    }
   ],
   "source": [
    "cast = \",\".join(cast_names)\n",
    "cast"
   ]
  },
  {
   "cell_type": "code",
   "execution_count": 70,
   "metadata": {},
   "outputs": [
    {
     "data": {
      "text/plain": [
       "['Gregory Hines,Billy Crystal,Jimmy Smits,Steven Bauer',\n",
       " 'Christian Bale,Emily Watson,Taye Diggs,Angus Macfadyen',\n",
       " 'Jet Li,Tony Leung Chiu Wai,Maggie Cheung,Daoming Chen',\n",
       " 'Patrick Swayze,Kelly Lynch,Sam Elliott,Ben Gazzara',\n",
       " 'Denzel Washington,Chris Pine,Rosario Dawson,Ethan Suplee']"
      ]
     },
     "execution_count": 70,
     "metadata": {},
     "output_type": "execute_result"
    }
   ],
   "source": [
    "# For all cast info\n",
    "\n",
    "cast = []\n",
    "for c in cast_info:\n",
    "    cast_links = c.find_all(\"a\")\n",
    "    cast_names = [ link.string for link in cast_links ]\n",
    "    \n",
    "    cast.append(\",\".join(cast_names))\n",
    "\n",
    "cast[:5]"
   ]
  },
  {
   "cell_type": "code",
   "execution_count": 71,
   "metadata": {},
   "outputs": [
    {
     "data": {
      "text/plain": [
       "[<div class=\"info synopsis\"><span class=\"descriptor\">Synopsis:</span> Distinguished by a sharp, witty dialogue between its two cop protagonists, Ray and Danny (Gregory Hines and Billy Crystal), this...<a class=\"\" data-pageheader=\"\" href=\"https://www.rottentomatoes.com/m/1018009-running_scared/\" target=\"_top\"> [More]</a></div>,\n",
       " <div class=\"info synopsis\"><span class=\"descriptor\">Synopsis:</span> In the nation of Libria, there is always peace among men. The rules of the Librian system are simple. If...<a class=\"\" data-pageheader=\"\" href=\"https://www.rottentomatoes.com/m/equilibrium/\" target=\"_top\"> [More]</a></div>,\n",
       " <div class=\"info synopsis\"><span class=\"descriptor\">Synopsis:</span> Hero is two-time Academy Award nominee Zhang Yimou's directorial attempt at exploring the concept of a Chinese hero. During the...<a class=\"\" data-pageheader=\"\" href=\"https://www.rottentomatoes.com/m/hero/\" target=\"_top\"> [More]</a></div>,\n",
       " <div class=\"info synopsis\"><span class=\"descriptor\">Synopsis:</span> Dalton (Swayze) is a true gentleman with a degree in philosophy from NYU. He also has a flip side -...<a class=\"\" data-pageheader=\"\" href=\"https://www.rottentomatoes.com/m/1017666-road_house/\" target=\"_top\"> [More]</a></div>,\n",
       " <div class=\"info synopsis\"><span class=\"descriptor\">Synopsis:</span> In this action thriller from director Tony Scott, rookie train operator Will (Chris Pine) and grizzled veteran engineer Frank (Denzel...<a class=\"\" data-pageheader=\"\" href=\"https://www.rottentomatoes.com/m/unstoppable-2010/\" target=\"_top\"> [More]</a></div>]"
      ]
     },
     "execution_count": 71,
     "metadata": {},
     "output_type": "execute_result"
    }
   ],
   "source": [
    "# Synopsis\n",
    "\n",
    "synopsis = [ div.find('div',class_='synopsis') for div in divs ]\n",
    "synopsis[:5]"
   ]
  },
  {
   "cell_type": "code",
   "execution_count": 72,
   "metadata": {},
   "outputs": [
    {
     "data": {
      "text/plain": [
       "<div class=\"info synopsis\"><span class=\"descriptor\">Synopsis:</span> Distinguished by a sharp, witty dialogue between its two cop protagonists, Ray and Danny (Gregory Hines and Billy Crystal), this...<a class=\"\" data-pageheader=\"\" href=\"https://www.rottentomatoes.com/m/1018009-running_scared/\" target=\"_top\"> [More]</a></div>"
      ]
     },
     "execution_count": 72,
     "metadata": {},
     "output_type": "execute_result"
    }
   ],
   "source": [
    "synopsis[0]"
   ]
  },
  {
   "cell_type": "code",
   "execution_count": 73,
   "metadata": {},
   "outputs": [
    {
     "data": {
      "text/plain": [
       "' Distinguished by a sharp, witty dialogue between its two cop protagonists, Ray and Danny (Gregory Hines and Billy Crystal), this...'"
      ]
     },
     "execution_count": 73,
     "metadata": {},
     "output_type": "execute_result"
    }
   ],
   "source": [
    "synopsis[0].contents[1]"
   ]
  },
  {
   "cell_type": "code",
   "execution_count": 75,
   "metadata": {},
   "outputs": [
    {
     "data": {
      "text/plain": [
       "[' Distinguished by a sharp, witty dialogue between its two cop protagonists, Ray and Danny (Gregory Hines and Billy Crystal), this...',\n",
       " ' In the nation of Libria, there is always peace among men. The rules of the Librian system are simple. If...',\n",
       " \" Hero is two-time Academy Award nominee Zhang Yimou's directorial attempt at exploring the concept of a Chinese hero. During the...\",\n",
       " ' Dalton (Swayze) is a true gentleman with a degree in philosophy from NYU. He also has a flip side -...',\n",
       " ' In this action thriller from director Tony Scott, rookie train operator Will (Chris Pine) and grizzled veteran engineer Frank (Denzel...']"
      ]
     },
     "execution_count": 75,
     "metadata": {},
     "output_type": "execute_result"
    }
   ],
   "source": [
    "synopsis_text = [ syn.contents[1] for syn in synopsis ]\n",
    "synopsis_text[:5]"
   ]
  },
  {
   "cell_type": "markdown",
   "metadata": {},
   "source": [
    "# Create a DataFrame"
   ]
  },
  {
   "cell_type": "code",
   "execution_count": 76,
   "metadata": {
    "scrolled": true
   },
   "outputs": [
    {
     "data": {
      "text/html": [
       "<div>\n",
       "<style scoped>\n",
       "    .dataframe tbody tr th:only-of-type {\n",
       "        vertical-align: middle;\n",
       "    }\n",
       "\n",
       "    .dataframe tbody tr th {\n",
       "        vertical-align: top;\n",
       "    }\n",
       "\n",
       "    .dataframe thead th {\n",
       "        text-align: right;\n",
       "    }\n",
       "</style>\n",
       "<table border=\"1\" class=\"dataframe\">\n",
       "  <thead>\n",
       "    <tr style=\"text-align: right;\">\n",
       "      <th></th>\n",
       "    </tr>\n",
       "  </thead>\n",
       "  <tbody>\n",
       "  </tbody>\n",
       "</table>\n",
       "</div>"
      ],
      "text/plain": [
       "Empty DataFrame\n",
       "Columns: []\n",
       "Index: []"
      ]
     },
     "execution_count": 76,
     "metadata": {},
     "output_type": "execute_result"
    }
   ],
   "source": [
    "movies_hdfc = pd.DataFrame()\n",
    "movies_hdfc"
   ]
  },
  {
   "cell_type": "code",
   "execution_count": 77,
   "metadata": {},
   "outputs": [
    {
     "data": {
      "text/html": [
       "<div>\n",
       "<style scoped>\n",
       "    .dataframe tbody tr th:only-of-type {\n",
       "        vertical-align: middle;\n",
       "    }\n",
       "\n",
       "    .dataframe tbody tr th {\n",
       "        vertical-align: top;\n",
       "    }\n",
       "\n",
       "    .dataframe thead th {\n",
       "        text-align: right;\n",
       "    }\n",
       "</style>\n",
       "<table border=\"1\" class=\"dataframe\">\n",
       "  <thead>\n",
       "    <tr style=\"text-align: right;\">\n",
       "      <th></th>\n",
       "      <th>Movie Name</th>\n",
       "      <th>Year</th>\n",
       "      <th>Score</th>\n",
       "      <th>Director</th>\n",
       "      <th>Synopsis</th>\n",
       "      <th>Consesus</th>\n",
       "      <th>Cast</th>\n",
       "    </tr>\n",
       "  </thead>\n",
       "  <tbody>\n",
       "    <tr>\n",
       "      <th>0</th>\n",
       "      <td>Running Scared</td>\n",
       "      <td>1986</td>\n",
       "      <td>57</td>\n",
       "      <td>Peter Hyams</td>\n",
       "      <td>Distinguished by a sharp, witty dialogue betw...</td>\n",
       "      <td>Running Scared struggles to strike a consisten...</td>\n",
       "      <td>Gregory Hines,Billy Crystal,Jimmy Smits,Steven...</td>\n",
       "    </tr>\n",
       "    <tr>\n",
       "      <th>1</th>\n",
       "      <td>Equilibrium</td>\n",
       "      <td>2002</td>\n",
       "      <td>41</td>\n",
       "      <td>Kurt Wimmer</td>\n",
       "      <td>In the nation of Libria, there is always peac...</td>\n",
       "      <td>Equilibrium is a reheated mishmash of other sc...</td>\n",
       "      <td>Christian Bale,Emily Watson,Taye Diggs,Angus M...</td>\n",
       "    </tr>\n",
       "    <tr>\n",
       "      <th>2</th>\n",
       "      <td>Hero</td>\n",
       "      <td>2004</td>\n",
       "      <td>95</td>\n",
       "      <td>Zhang Yimou</td>\n",
       "      <td>Hero is two-time Academy Award nominee Zhang ...</td>\n",
       "      <td>With death-defying action sequences and epic h...</td>\n",
       "      <td>Jet Li,Tony Leung Chiu Wai,Maggie Cheung,Daomi...</td>\n",
       "    </tr>\n",
       "    <tr>\n",
       "      <th>3</th>\n",
       "      <td>Road House</td>\n",
       "      <td>1989</td>\n",
       "      <td>39</td>\n",
       "      <td>Rowdy Herrington</td>\n",
       "      <td>Dalton (Swayze) is a true gentleman with a de...</td>\n",
       "      <td>Whether Road House is simply bad or so bad it'...</td>\n",
       "      <td>Patrick Swayze,Kelly Lynch,Sam Elliott,Ben Gaz...</td>\n",
       "    </tr>\n",
       "    <tr>\n",
       "      <th>4</th>\n",
       "      <td>Unstoppable</td>\n",
       "      <td>2010</td>\n",
       "      <td>87</td>\n",
       "      <td>Tony Scott</td>\n",
       "      <td>In this action thriller from director Tony Sc...</td>\n",
       "      <td>As fast, loud, and relentless as the train at ...</td>\n",
       "      <td>Denzel Washington,Chris Pine,Rosario Dawson,Et...</td>\n",
       "    </tr>\n",
       "  </tbody>\n",
       "</table>\n",
       "</div>"
      ],
      "text/plain": [
       "       Movie Name  Year  Score          Director  \\\n",
       "0  Running Scared  1986     57       Peter Hyams   \n",
       "1     Equilibrium  2002     41       Kurt Wimmer   \n",
       "2            Hero  2004     95       Zhang Yimou   \n",
       "3      Road House  1989     39  Rowdy Herrington   \n",
       "4     Unstoppable  2010     87        Tony Scott   \n",
       "\n",
       "                                            Synopsis  \\\n",
       "0   Distinguished by a sharp, witty dialogue betw...   \n",
       "1   In the nation of Libria, there is always peac...   \n",
       "2   Hero is two-time Academy Award nominee Zhang ...   \n",
       "3   Dalton (Swayze) is a true gentleman with a de...   \n",
       "4   In this action thriller from director Tony Sc...   \n",
       "\n",
       "                                            Consesus  \\\n",
       "0  Running Scared struggles to strike a consisten...   \n",
       "1  Equilibrium is a reheated mishmash of other sc...   \n",
       "2  With death-defying action sequences and epic h...   \n",
       "3  Whether Road House is simply bad or so bad it'...   \n",
       "4  As fast, loud, and relentless as the train at ...   \n",
       "\n",
       "                                                Cast  \n",
       "0  Gregory Hines,Billy Crystal,Jimmy Smits,Steven...  \n",
       "1  Christian Bale,Emily Watson,Taye Diggs,Angus M...  \n",
       "2  Jet Li,Tony Leung Chiu Wai,Maggie Cheung,Daomi...  \n",
       "3  Patrick Swayze,Kelly Lynch,Sam Elliott,Ben Gaz...  \n",
       "4  Denzel Washington,Chris Pine,Rosario Dawson,Et...  "
      ]
     },
     "execution_count": 77,
     "metadata": {},
     "output_type": "execute_result"
    }
   ],
   "source": [
    "movies_hdfc[\"Movie Name\"] = movie_names\n",
    "movies_hdfc[\"Year\"] = years\n",
    "movies_hdfc[\"Score\"] = scores\n",
    "movies_hdfc[\"Director\"] = final_directors\n",
    "movies_hdfc[\"Synopsis\"] = synopsis_text\n",
    "movies_hdfc[\"Consesus\"] = consensus_text\n",
    "movies_hdfc[\"Cast\"] = cast\n",
    "movies_hdfc.head()"
   ]
  },
  {
   "cell_type": "code",
   "execution_count": 78,
   "metadata": {},
   "outputs": [
    {
     "data": {
      "text/plain": [
       "(140, 7)"
      ]
     },
     "execution_count": 78,
     "metadata": {},
     "output_type": "execute_result"
    }
   ],
   "source": [
    "movies_hdfc.shape"
   ]
  },
  {
   "cell_type": "code",
   "execution_count": 79,
   "metadata": {},
   "outputs": [
    {
     "name": "stderr",
     "output_type": "stream",
     "text": [
      "<ipython-input-79-498c57626e5f>:1: FutureWarning: Passing a negative integer is deprecated in version 1.0 and will not be supported in future version. Instead, use None to not limit the column width.\n",
      "  pd.set_option('display.max_colwidth',-1)\n"
     ]
    },
    {
     "data": {
      "text/html": [
       "<div>\n",
       "<style scoped>\n",
       "    .dataframe tbody tr th:only-of-type {\n",
       "        vertical-align: middle;\n",
       "    }\n",
       "\n",
       "    .dataframe tbody tr th {\n",
       "        vertical-align: top;\n",
       "    }\n",
       "\n",
       "    .dataframe thead th {\n",
       "        text-align: right;\n",
       "    }\n",
       "</style>\n",
       "<table border=\"1\" class=\"dataframe\">\n",
       "  <thead>\n",
       "    <tr style=\"text-align: right;\">\n",
       "      <th></th>\n",
       "      <th>Movie Name</th>\n",
       "      <th>Year</th>\n",
       "      <th>Score</th>\n",
       "      <th>Director</th>\n",
       "      <th>Synopsis</th>\n",
       "      <th>Consesus</th>\n",
       "      <th>Cast</th>\n",
       "    </tr>\n",
       "  </thead>\n",
       "  <tbody>\n",
       "    <tr>\n",
       "      <th>0</th>\n",
       "      <td>Running Scared</td>\n",
       "      <td>1986</td>\n",
       "      <td>57</td>\n",
       "      <td>Peter Hyams</td>\n",
       "      <td>Distinguished by a sharp, witty dialogue between its two cop protagonists, Ray and Danny (Gregory Hines and Billy Crystal), this...</td>\n",
       "      <td>Running Scared struggles to strike a consistent balance between violent action and humor, but the chemistry between its well-matched leads keeps things entertaining.</td>\n",
       "      <td>Gregory Hines,Billy Crystal,Jimmy Smits,Steven Bauer</td>\n",
       "    </tr>\n",
       "    <tr>\n",
       "      <th>1</th>\n",
       "      <td>Equilibrium</td>\n",
       "      <td>2002</td>\n",
       "      <td>41</td>\n",
       "      <td>Kurt Wimmer</td>\n",
       "      <td>In the nation of Libria, there is always peace among men. The rules of the Librian system are simple. If...</td>\n",
       "      <td>Equilibrium is a reheated mishmash of other sci-fi movies.</td>\n",
       "      <td>Christian Bale,Emily Watson,Taye Diggs,Angus Macfadyen</td>\n",
       "    </tr>\n",
       "    <tr>\n",
       "      <th>2</th>\n",
       "      <td>Hero</td>\n",
       "      <td>2004</td>\n",
       "      <td>95</td>\n",
       "      <td>Zhang Yimou</td>\n",
       "      <td>Hero is two-time Academy Award nominee Zhang Yimou's directorial attempt at exploring the concept of a Chinese hero. During the...</td>\n",
       "      <td>With death-defying action sequences and epic historic sweep, Hero offers everything a martial arts fan could ask for.</td>\n",
       "      <td>Jet Li,Tony Leung Chiu Wai,Maggie Cheung,Daoming Chen</td>\n",
       "    </tr>\n",
       "    <tr>\n",
       "      <th>3</th>\n",
       "      <td>Road House</td>\n",
       "      <td>1989</td>\n",
       "      <td>39</td>\n",
       "      <td>Rowdy Herrington</td>\n",
       "      <td>Dalton (Swayze) is a true gentleman with a degree in philosophy from NYU. He also has a flip side -...</td>\n",
       "      <td>Whether Road House is simply bad or so bad it's good depends largely on the audience's fondness for Swayze -- and tolerance for violently cheesy action.</td>\n",
       "      <td>Patrick Swayze,Kelly Lynch,Sam Elliott,Ben Gazzara</td>\n",
       "    </tr>\n",
       "    <tr>\n",
       "      <th>4</th>\n",
       "      <td>Unstoppable</td>\n",
       "      <td>2010</td>\n",
       "      <td>87</td>\n",
       "      <td>Tony Scott</td>\n",
       "      <td>In this action thriller from director Tony Scott, rookie train operator Will (Chris Pine) and grizzled veteran engineer Frank (Denzel...</td>\n",
       "      <td>As fast, loud, and relentless as the train at the center of the story, Unstoppable is perfect popcorn entertainment -- and director Tony Scott's best movie in years.</td>\n",
       "      <td>Denzel Washington,Chris Pine,Rosario Dawson,Ethan Suplee</td>\n",
       "    </tr>\n",
       "  </tbody>\n",
       "</table>\n",
       "</div>"
      ],
      "text/plain": [
       "       Movie Name  Year  Score          Director  \\\n",
       "0  Running Scared  1986  57     Peter Hyams        \n",
       "1  Equilibrium     2002  41     Kurt Wimmer        \n",
       "2  Hero            2004  95     Zhang Yimou        \n",
       "3  Road House      1989  39     Rowdy Herrington   \n",
       "4  Unstoppable     2010  87     Tony Scott         \n",
       "\n",
       "                                                                                                                                    Synopsis  \\\n",
       "0   Distinguished by a sharp, witty dialogue between its two cop protagonists, Ray and Danny (Gregory Hines and Billy Crystal), this...        \n",
       "1   In the nation of Libria, there is always peace among men. The rules of the Librian system are simple. If...                                \n",
       "2   Hero is two-time Academy Award nominee Zhang Yimou's directorial attempt at exploring the concept of a Chinese hero. During the...         \n",
       "3   Dalton (Swayze) is a true gentleman with a degree in philosophy from NYU. He also has a flip side -...                                     \n",
       "4   In this action thriller from director Tony Scott, rookie train operator Will (Chris Pine) and grizzled veteran engineer Frank (Denzel...   \n",
       "\n",
       "                                                                                                                                                                Consesus  \\\n",
       "0  Running Scared struggles to strike a consistent balance between violent action and humor, but the chemistry between its well-matched leads keeps things entertaining.   \n",
       "1  Equilibrium is a reheated mishmash of other sci-fi movies.                                                                                                              \n",
       "2  With death-defying action sequences and epic historic sweep, Hero offers everything a martial arts fan could ask for.                                                   \n",
       "3  Whether Road House is simply bad or so bad it's good depends largely on the audience's fondness for Swayze -- and tolerance for violently cheesy action.                \n",
       "4  As fast, loud, and relentless as the train at the center of the story, Unstoppable is perfect popcorn entertainment -- and director Tony Scott's best movie in years.   \n",
       "\n",
       "                                                       Cast  \n",
       "0  Gregory Hines,Billy Crystal,Jimmy Smits,Steven Bauer      \n",
       "1  Christian Bale,Emily Watson,Taye Diggs,Angus Macfadyen    \n",
       "2  Jet Li,Tony Leung Chiu Wai,Maggie Cheung,Daoming Chen     \n",
       "3  Patrick Swayze,Kelly Lynch,Sam Elliott,Ben Gazzara        \n",
       "4  Denzel Washington,Chris Pine,Rosario Dawson,Ethan Suplee  "
      ]
     },
     "execution_count": 79,
     "metadata": {},
     "output_type": "execute_result"
    }
   ],
   "source": [
    "pd.set_option('display.max_colwidth',-1)\n",
    "movies_hdfc.head()"
   ]
  },
  {
   "cell_type": "code",
   "execution_count": 80,
   "metadata": {
    "collapsed": true
   },
   "outputs": [],
   "source": [
    "movies_hdfc.to_csv(\"movies_hdfc.csv\", index=False, header=True)"
   ]
  }
 ],
 "metadata": {
  "kernelspec": {
   "display_name": "Python 3",
   "language": "python",
   "name": "python3"
  },
  "language_info": {
   "codemirror_mode": {
    "name": "ipython",
    "version": 3
   },
   "file_extension": ".py",
   "mimetype": "text/x-python",
   "name": "python",
   "nbconvert_exporter": "python",
   "pygments_lexer": "ipython3",
   "version": "3.6.3"
  }
 },
 "nbformat": 4,
 "nbformat_minor": 4
}
