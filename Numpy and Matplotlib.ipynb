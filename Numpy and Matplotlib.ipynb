{
 "cells": [
  {
   "cell_type": "markdown",
   "metadata": {},
   "source": [
    "# Numpy\n",
    "\n",
    "Numpy is called as backbone of Machine Learning.\n",
    "\n",
    "__Used for Numerical computations.__\n",
    "\n",
    "Num - Numerical\n",
    "\n",
    "py - Python\n",
    "\n",
    "__Advantage:__ Numpy are arrays, Numpy has  fast vectorized operations\n",
    "\n",
    "__Numpy consists of 2 things:__\n",
    "\n",
    "1. ndarray - n dim array\n",
    "\n",
    "2. Ufunc - universal function"
   ]
  },
  {
   "cell_type": "raw",
   "metadata": {},
   "source": [
    "1. ndarray"
   ]
  },
  {
   "cell_type": "code",
   "execution_count": 1,
   "metadata": {
    "collapsed": true
   },
   "outputs": [],
   "source": [
    "import numpy as np"
   ]
  },
  {
   "cell_type": "code",
   "execution_count": 2,
   "metadata": {},
   "outputs": [
    {
     "data": {
      "text/plain": [
       "array([1, 2, 3, 4, 5])"
      ]
     },
     "execution_count": 2,
     "metadata": {},
     "output_type": "execute_result"
    }
   ],
   "source": [
    "np.array( [1,2,3,4,5] )"
   ]
  },
  {
   "cell_type": "code",
   "execution_count": 3,
   "metadata": {},
   "outputs": [
    {
     "name": "stdout",
     "output_type": "stream",
     "text": [
      "[1 2 3 4 5]\n",
      "<class 'numpy.ndarray'>\n"
     ]
    }
   ],
   "source": [
    "arr = np.array( [1,2,3,4,5] )\n",
    "print(arr)\n",
    "print(type(arr))"
   ]
  },
  {
   "cell_type": "code",
   "execution_count": 4,
   "metadata": {},
   "outputs": [
    {
     "data": {
      "text/plain": [
       "(5,)"
      ]
     },
     "execution_count": 4,
     "metadata": {},
     "output_type": "execute_result"
    }
   ],
   "source": [
    "# attribute\n",
    "arr.shape"
   ]
  },
  {
   "cell_type": "code",
   "execution_count": 5,
   "metadata": {},
   "outputs": [
    {
     "data": {
      "text/plain": [
       "dtype('int32')"
      ]
     },
     "execution_count": 5,
     "metadata": {},
     "output_type": "execute_result"
    }
   ],
   "source": [
    "arr.dtype"
   ]
  },
  {
   "cell_type": "code",
   "execution_count": 10,
   "metadata": {},
   "outputs": [
    {
     "name": "stdout",
     "output_type": "stream",
     "text": [
      "[1. 2. 3. 4. 5.]\n",
      "<class 'numpy.ndarray'>\n",
      "15.0\n"
     ]
    }
   ],
   "source": [
    "arr = np.array( [1,2.0,3,4,5])\n",
    "print(arr) \n",
    "print(type(arr))\n",
    "print(np.sum(arr))"
   ]
  },
  {
   "cell_type": "code",
   "execution_count": 7,
   "metadata": {},
   "outputs": [
    {
     "data": {
      "text/plain": [
       "dtype('float64')"
      ]
     },
     "execution_count": 7,
     "metadata": {},
     "output_type": "execute_result"
    }
   ],
   "source": [
    "arr.dtype"
   ]
  },
  {
   "cell_type": "code",
   "execution_count": 12,
   "metadata": {},
   "outputs": [
    {
     "name": "stdout",
     "output_type": "stream",
     "text": [
      "['1' '2.0' '3' '4' 'vishal']\n",
      "<class 'numpy.ndarray'>\n",
      "<U32\n"
     ]
    },
    {
     "ename": "TypeError",
     "evalue": "cannot perform reduce with flexible type",
     "output_type": "error",
     "traceback": [
      "\u001b[1;31m---------------------------------------------------------------------------\u001b[0m",
      "\u001b[1;31mTypeError\u001b[0m                                 Traceback (most recent call last)",
      "\u001b[1;32m<ipython-input-12-2b2b5a0c143f>\u001b[0m in \u001b[0;36m<module>\u001b[1;34m\u001b[0m\n\u001b[0;32m      3\u001b[0m \u001b[0mprint\u001b[0m\u001b[1;33m(\u001b[0m\u001b[0mtype\u001b[0m\u001b[1;33m(\u001b[0m\u001b[0marr\u001b[0m\u001b[1;33m)\u001b[0m\u001b[1;33m)\u001b[0m\u001b[1;33m\u001b[0m\u001b[1;33m\u001b[0m\u001b[0m\n\u001b[0;32m      4\u001b[0m \u001b[0mprint\u001b[0m\u001b[1;33m(\u001b[0m\u001b[0marr\u001b[0m\u001b[1;33m.\u001b[0m\u001b[0mdtype\u001b[0m\u001b[1;33m)\u001b[0m\u001b[1;33m\u001b[0m\u001b[1;33m\u001b[0m\u001b[0m\n\u001b[1;32m----> 5\u001b[1;33m \u001b[0mprint\u001b[0m\u001b[1;33m(\u001b[0m\u001b[0mnp\u001b[0m\u001b[1;33m.\u001b[0m\u001b[0msum\u001b[0m\u001b[1;33m(\u001b[0m\u001b[0marr\u001b[0m\u001b[1;33m)\u001b[0m\u001b[1;33m)\u001b[0m\u001b[1;33m\u001b[0m\u001b[1;33m\u001b[0m\u001b[0m\n\u001b[0m",
      "\u001b[1;32m<__array_function__ internals>\u001b[0m in \u001b[0;36msum\u001b[1;34m(*args, **kwargs)\u001b[0m\n",
      "\u001b[1;32mc:\\users\\lenovo\\appdata\\local\\programs\\python\\python37-32\\lib\\site-packages\\numpy\\core\\fromnumeric.py\u001b[0m in \u001b[0;36msum\u001b[1;34m(a, axis, dtype, out, keepdims, initial, where)\u001b[0m\n\u001b[0;32m   2180\u001b[0m \u001b[1;33m\u001b[0m\u001b[0m\n\u001b[0;32m   2181\u001b[0m     return _wrapreduction(a, np.add, 'sum', axis, dtype, out, keepdims=keepdims,\n\u001b[1;32m-> 2182\u001b[1;33m                           initial=initial, where=where)\n\u001b[0m\u001b[0;32m   2183\u001b[0m \u001b[1;33m\u001b[0m\u001b[0m\n\u001b[0;32m   2184\u001b[0m \u001b[1;33m\u001b[0m\u001b[0m\n",
      "\u001b[1;32mc:\\users\\lenovo\\appdata\\local\\programs\\python\\python37-32\\lib\\site-packages\\numpy\\core\\fromnumeric.py\u001b[0m in \u001b[0;36m_wrapreduction\u001b[1;34m(obj, ufunc, method, axis, dtype, out, **kwargs)\u001b[0m\n\u001b[0;32m     88\u001b[0m                 \u001b[1;32mreturn\u001b[0m \u001b[0mreduction\u001b[0m\u001b[1;33m(\u001b[0m\u001b[0maxis\u001b[0m\u001b[1;33m=\u001b[0m\u001b[0maxis\u001b[0m\u001b[1;33m,\u001b[0m \u001b[0mout\u001b[0m\u001b[1;33m=\u001b[0m\u001b[0mout\u001b[0m\u001b[1;33m,\u001b[0m \u001b[1;33m**\u001b[0m\u001b[0mpasskwargs\u001b[0m\u001b[1;33m)\u001b[0m\u001b[1;33m\u001b[0m\u001b[1;33m\u001b[0m\u001b[0m\n\u001b[0;32m     89\u001b[0m \u001b[1;33m\u001b[0m\u001b[0m\n\u001b[1;32m---> 90\u001b[1;33m     \u001b[1;32mreturn\u001b[0m \u001b[0mufunc\u001b[0m\u001b[1;33m.\u001b[0m\u001b[0mreduce\u001b[0m\u001b[1;33m(\u001b[0m\u001b[0mobj\u001b[0m\u001b[1;33m,\u001b[0m \u001b[0maxis\u001b[0m\u001b[1;33m,\u001b[0m \u001b[0mdtype\u001b[0m\u001b[1;33m,\u001b[0m \u001b[0mout\u001b[0m\u001b[1;33m,\u001b[0m \u001b[1;33m**\u001b[0m\u001b[0mpasskwargs\u001b[0m\u001b[1;33m)\u001b[0m\u001b[1;33m\u001b[0m\u001b[1;33m\u001b[0m\u001b[0m\n\u001b[0m\u001b[0;32m     91\u001b[0m \u001b[1;33m\u001b[0m\u001b[0m\n\u001b[0;32m     92\u001b[0m \u001b[1;33m\u001b[0m\u001b[0m\n",
      "\u001b[1;31mTypeError\u001b[0m: cannot perform reduce with flexible type"
     ]
    }
   ],
   "source": [
    "arr = np.array( [1,2.0,3,4,'vishal'] )\n",
    "print(arr)\n",
    "print(type(arr))\n",
    "print(arr.dtype)\n",
    "print(np.sum(arr))"
   ]
  },
  {
   "cell_type": "code",
   "execution_count": 13,
   "metadata": {},
   "outputs": [
    {
     "name": "stdout",
     "output_type": "stream",
     "text": [
      "[[1 2 3]\n",
      " [2 4 6]\n",
      " [8 8 8]]\n",
      "<class 'numpy.ndarray'>\n",
      "(3, 3)\n",
      "int32\n"
     ]
    }
   ],
   "source": [
    "arr = np.array( [ [1,2,3], [2,4,6], [8,8,8] ] )\n",
    "print(arr)\n",
    "print(type(arr))\n",
    "print(arr.shape)\n",
    "print(arr.dtype)"
   ]
  },
  {
   "cell_type": "code",
   "execution_count": 14,
   "metadata": {},
   "outputs": [
    {
     "name": "stdout",
     "output_type": "stream",
     "text": [
      "[[0. 0. 0. 0.]\n",
      " [0. 0. 0. 0.]]\n"
     ]
    }
   ],
   "source": [
    "arr = np.zeros( (2,4) )\n",
    "print(arr)"
   ]
  },
  {
   "cell_type": "code",
   "execution_count": 25,
   "metadata": {},
   "outputs": [
    {
     "name": "stdout",
     "output_type": "stream",
     "text": [
      "[[1. 1. 1. 1.]\n",
      " [1. 1. 1. 1.]]\n",
      "float64\n",
      "[[1 1 1 1]\n",
      " [1 1 1 1]]\n",
      "int32\n"
     ]
    }
   ],
   "source": [
    "arr = np.ones( (2,4) )\n",
    "print(arr)\n",
    "print(arr.dtype)\n",
    "arr = arr.astype(int)\n",
    "print(arr)\n",
    "print(arr.dtype)"
   ]
  },
  {
   "cell_type": "code",
   "execution_count": 16,
   "metadata": {},
   "outputs": [
    {
     "ename": "AttributeError",
     "evalue": "module 'numpy' has no attribute 'twos'",
     "output_type": "error",
     "traceback": [
      "\u001b[1;31m---------------------------------------------------------------------------\u001b[0m",
      "\u001b[1;31mAttributeError\u001b[0m                            Traceback (most recent call last)",
      "\u001b[1;32m<ipython-input-16-510e265505e8>\u001b[0m in \u001b[0;36m<module>\u001b[1;34m\u001b[0m\n\u001b[1;32m----> 1\u001b[1;33m \u001b[0marr\u001b[0m \u001b[1;33m=\u001b[0m \u001b[0mnp\u001b[0m\u001b[1;33m.\u001b[0m\u001b[0mtwos\u001b[0m\u001b[1;33m(\u001b[0m \u001b[1;33m(\u001b[0m\u001b[1;36m2\u001b[0m\u001b[1;33m,\u001b[0m\u001b[1;36m4\u001b[0m\u001b[1;33m)\u001b[0m \u001b[1;33m)\u001b[0m\u001b[1;33m\u001b[0m\u001b[1;33m\u001b[0m\u001b[0m\n\u001b[0m\u001b[0;32m      2\u001b[0m \u001b[0mprint\u001b[0m\u001b[1;33m(\u001b[0m\u001b[0marr\u001b[0m\u001b[1;33m)\u001b[0m\u001b[1;33m\u001b[0m\u001b[1;33m\u001b[0m\u001b[0m\n",
      "\u001b[1;31mAttributeError\u001b[0m: module 'numpy' has no attribute 'twos'"
     ]
    }
   ],
   "source": [
    "arr = np.twos( (2,4) )\n",
    "print(arr)"
   ]
  },
  {
   "cell_type": "code",
   "execution_count": 19,
   "metadata": {},
   "outputs": [
    {
     "data": {
      "text/plain": [
       "array([[1., 0., 0.],\n",
       "       [0., 1., 0.],\n",
       "       [0., 0., 1.]])"
      ]
     },
     "execution_count": 19,
     "metadata": {},
     "output_type": "execute_result"
    }
   ],
   "source": [
    "arr = np.identity( 3 )\n",
    "arr"
   ]
  },
  {
   "cell_type": "code",
   "execution_count": 23,
   "metadata": {},
   "outputs": [
    {
     "name": "stdout",
     "output_type": "stream",
     "text": [
      "[[ 0.38694592  0.64343795  0.02573136  0.38235968]\n",
      " [ 0.78974636 -0.75583463 -0.47787634  0.20988695]\n",
      " [-0.58107788 -0.87850287 -0.38657981 -0.29347101]]\n"
     ]
    }
   ],
   "source": [
    "arr = np.random.randn(3,4)\n",
    "print(arr)"
   ]
  },
  {
   "cell_type": "code",
   "execution_count": 27,
   "metadata": {},
   "outputs": [
    {
     "name": "stdout",
     "output_type": "stream",
     "text": [
      "[0.41936288 0.93852446 0.59354026 0.2312237  0.32032919 0.42696744\n",
      " 0.74223156 0.46115376 0.82078991 0.41871557 0.99913172 0.25652387\n",
      " 0.98350183 0.1939094  0.67211743 0.19182702 0.81029461 0.72851319\n",
      " 0.4482429  0.76868566 0.56677752 0.21898538 0.70899229 0.65160128\n",
      " 0.06647516 0.14329333 0.23080527 0.78252733 0.61410445 0.8703713 ]\n"
     ]
    }
   ],
   "source": [
    "arr = np.random.random_sample(30)\n",
    "print(arr)"
   ]
  },
  {
   "cell_type": "code",
   "execution_count": 36,
   "metadata": {},
   "outputs": [
    {
     "name": "stdout",
     "output_type": "stream",
     "text": [
      "[[1 2 3]\n",
      " [2 4 6]\n",
      " [8 8 8]]\n",
      "(3, 3)\n",
      "2\n",
      "3\n",
      "[2 4 6]\n",
      "4\n"
     ]
    }
   ],
   "source": [
    "# Basic Indexing and Slicing in Numpy\n",
    "\n",
    "arr = np.array( [ [1,2,3], [2,4,6], [8,8,8] ] )\n",
    "print(arr)\n",
    "print(arr.shape)\n",
    "print(arr[1][0]) # row =1 col = 0\n",
    "print(arr[0][2]) # row =0 col = 2\n",
    "# print(arr[0][20]) # row =0 col = 20 gives IndexError\n",
    "print(arr[1]) # row = 1 i.e. entire row is given as output\n",
    "print(arr[1,1]) # COOL. Thanks Meenakshi"
   ]
  },
  {
   "cell_type": "code",
   "execution_count": 37,
   "metadata": {},
   "outputs": [
    {
     "data": {
      "text/plain": [
       "array([ 0,  1,  2,  3,  4,  5,  6,  7,  8,  9, 10, 11])"
      ]
     },
     "execution_count": 37,
     "metadata": {},
     "output_type": "execute_result"
    }
   ],
   "source": [
    "np.arange(12)"
   ]
  },
  {
   "cell_type": "code",
   "execution_count": 39,
   "metadata": {},
   "outputs": [
    {
     "data": {
      "text/plain": [
       "array([[ 0,  1,  2,  3],\n",
       "       [ 4,  5,  6,  7],\n",
       "       [ 8,  9, 10, 11]])"
      ]
     },
     "execution_count": 39,
     "metadata": {},
     "output_type": "execute_result"
    }
   ],
   "source": [
    "# reshape\n",
    "np.arange(12).reshape(3,4)"
   ]
  },
  {
   "cell_type": "code",
   "execution_count": 40,
   "metadata": {},
   "outputs": [
    {
     "ename": "ValueError",
     "evalue": "cannot reshape array of size 12 into shape (4,4)",
     "output_type": "error",
     "traceback": [
      "\u001b[1;31m---------------------------------------------------------------------------\u001b[0m",
      "\u001b[1;31mValueError\u001b[0m                                Traceback (most recent call last)",
      "\u001b[1;32m<ipython-input-40-6571a7545b4c>\u001b[0m in \u001b[0;36m<module>\u001b[1;34m\u001b[0m\n\u001b[0;32m      1\u001b[0m \u001b[1;31m# reshape\u001b[0m\u001b[1;33m\u001b[0m\u001b[1;33m\u001b[0m\u001b[1;33m\u001b[0m\u001b[0m\n\u001b[1;32m----> 2\u001b[1;33m \u001b[0mnp\u001b[0m\u001b[1;33m.\u001b[0m\u001b[0marange\u001b[0m\u001b[1;33m(\u001b[0m\u001b[1;36m12\u001b[0m\u001b[1;33m)\u001b[0m\u001b[1;33m.\u001b[0m\u001b[0mreshape\u001b[0m\u001b[1;33m(\u001b[0m\u001b[1;36m4\u001b[0m\u001b[1;33m,\u001b[0m\u001b[1;36m4\u001b[0m\u001b[1;33m)\u001b[0m\u001b[1;33m\u001b[0m\u001b[1;33m\u001b[0m\u001b[0m\n\u001b[0m",
      "\u001b[1;31mValueError\u001b[0m: cannot reshape array of size 12 into shape (4,4)"
     ]
    }
   ],
   "source": [
    "# reshape\n",
    "np.arange(12).reshape(4,4)"
   ]
  },
  {
   "cell_type": "code",
   "execution_count": 41,
   "metadata": {},
   "outputs": [
    {
     "data": {
      "text/plain": [
       "array([[ 0,  1],\n",
       "       [ 2,  3],\n",
       "       [ 4,  5],\n",
       "       [ 6,  7],\n",
       "       [ 8,  9],\n",
       "       [10, 11]])"
      ]
     },
     "execution_count": 41,
     "metadata": {},
     "output_type": "execute_result"
    }
   ],
   "source": [
    "# reshape\n",
    "np.arange(12).reshape(6,2)"
   ]
  },
  {
   "cell_type": "code",
   "execution_count": 42,
   "metadata": {},
   "outputs": [
    {
     "data": {
      "text/plain": [
       "array([[ 0,  1,  2,  3,  4,  5],\n",
       "       [ 6,  7,  8,  9, 10, 11]])"
      ]
     },
     "execution_count": 42,
     "metadata": {},
     "output_type": "execute_result"
    }
   ],
   "source": [
    "# reshape\n",
    "np.arange(12).reshape(2,6)"
   ]
  },
  {
   "cell_type": "code",
   "execution_count": 43,
   "metadata": {},
   "outputs": [
    {
     "data": {
      "text/plain": [
       "array([[[ 0,  1,  2],\n",
       "        [ 3,  4,  5]],\n",
       "\n",
       "       [[ 6,  7,  8],\n",
       "        [ 9, 10, 11]]])"
      ]
     },
     "execution_count": 43,
     "metadata": {},
     "output_type": "execute_result"
    }
   ],
   "source": [
    "# reshape\n",
    "np.arange(12).reshape(2,2,3)\n",
    "# 2 arrays, each of 2 rows and 3 cols"
   ]
  },
  {
   "cell_type": "code",
   "execution_count": 44,
   "metadata": {},
   "outputs": [
    {
     "data": {
      "text/plain": [
       "array([[[ 0,  1,  2,  3,  4,  5],\n",
       "        [ 6,  7,  8,  9, 10, 11]]])"
      ]
     },
     "execution_count": 44,
     "metadata": {},
     "output_type": "execute_result"
    }
   ],
   "source": [
    "# reshape\n",
    "np.arange(12).reshape(1,2,6)\n",
    "# 2 arrays, each of 2 rows and 3 cols"
   ]
  },
  {
   "cell_type": "code",
   "execution_count": 45,
   "metadata": {},
   "outputs": [
    {
     "data": {
      "text/plain": [
       "array([[[ 0,  1],\n",
       "        [ 2,  3]],\n",
       "\n",
       "       [[ 4,  5],\n",
       "        [ 6,  7]],\n",
       "\n",
       "       [[ 8,  9],\n",
       "        [10, 11]]])"
      ]
     },
     "execution_count": 45,
     "metadata": {},
     "output_type": "execute_result"
    }
   ],
   "source": [
    "# reshape\n",
    "np.arange(12).reshape(3, 2, 2 )\n",
    "# 2 arrays, each of 2 rows and 3 cols"
   ]
  },
  {
   "cell_type": "code",
   "execution_count": 46,
   "metadata": {},
   "outputs": [
    {
     "data": {
      "text/plain": [
       "array([[[ 0,  1,  2,  3]],\n",
       "\n",
       "       [[ 4,  5,  6,  7]],\n",
       "\n",
       "       [[ 8,  9, 10, 11]]])"
      ]
     },
     "execution_count": 46,
     "metadata": {},
     "output_type": "execute_result"
    }
   ],
   "source": [
    "# reshape\n",
    "np.arange(12).reshape(3, 1, 4 )\n",
    "# 2 arrays, each of 2 rows and 3 cols"
   ]
  },
  {
   "cell_type": "code",
   "execution_count": 47,
   "metadata": {},
   "outputs": [
    {
     "name": "stdout",
     "output_type": "stream",
     "text": [
      "[[[ 0  1  2]\n",
      "  [ 3  4  5]]\n",
      "\n",
      " [[ 6  7  8]\n",
      "  [ 9 10 11]]]\n"
     ]
    }
   ],
   "source": [
    "# reshape\n",
    "arr = np.arange(12).reshape(2,2,3)\n",
    "print(arr)"
   ]
  },
  {
   "cell_type": "code",
   "execution_count": 48,
   "metadata": {},
   "outputs": [
    {
     "data": {
      "text/plain": [
       "array([[0, 1, 2],\n",
       "       [3, 4, 5]])"
      ]
     },
     "execution_count": 48,
     "metadata": {},
     "output_type": "execute_result"
    }
   ],
   "source": [
    "arr[0]"
   ]
  },
  {
   "cell_type": "code",
   "execution_count": 49,
   "metadata": {},
   "outputs": [
    {
     "data": {
      "text/plain": [
       "array([[ 6,  7,  8],\n",
       "       [ 9, 10, 11]])"
      ]
     },
     "execution_count": 49,
     "metadata": {},
     "output_type": "execute_result"
    }
   ],
   "source": [
    "arr[1]"
   ]
  },
  {
   "cell_type": "code",
   "execution_count": 50,
   "metadata": {},
   "outputs": [
    {
     "data": {
      "text/plain": [
       "array([3, 4, 5])"
      ]
     },
     "execution_count": 50,
     "metadata": {},
     "output_type": "execute_result"
    }
   ],
   "source": [
    "arr[0][1]"
   ]
  },
  {
   "cell_type": "code",
   "execution_count": 51,
   "metadata": {},
   "outputs": [
    {
     "data": {
      "text/plain": [
       "array([6, 7, 8])"
      ]
     },
     "execution_count": 51,
     "metadata": {},
     "output_type": "execute_result"
    }
   ],
   "source": [
    "arr[1][0]"
   ]
  },
  {
   "cell_type": "code",
   "execution_count": 52,
   "metadata": {},
   "outputs": [
    {
     "data": {
      "text/plain": [
       "2"
      ]
     },
     "execution_count": 52,
     "metadata": {},
     "output_type": "execute_result"
    }
   ],
   "source": [
    "arr[0][0][2]"
   ]
  },
  {
   "cell_type": "code",
   "execution_count": 54,
   "metadata": {},
   "outputs": [
    {
     "data": {
      "text/plain": [
       "7"
      ]
     },
     "execution_count": 54,
     "metadata": {},
     "output_type": "execute_result"
    }
   ],
   "source": [
    "arr[1][0][1]"
   ]
  },
  {
   "cell_type": "code",
   "execution_count": 60,
   "metadata": {},
   "outputs": [
    {
     "name": "stdout",
     "output_type": "stream",
     "text": [
      "[0 1 2 3 4 5 6]\n",
      "[5 6]\n",
      "[0 1 2 3 4]\n",
      "[1 2 3 4]\n",
      "[0 1]\n"
     ]
    }
   ],
   "source": [
    "# Slicing\n",
    "\n",
    "arr = np.arange(7)\n",
    "print(arr)\n",
    "print(arr[5:])\n",
    "print(arr[:5]) # 0 till (5-1)\n",
    "print(arr[1:5]) # 1 till (5-1)\n",
    "print(arr[ : -5]) # 0 till (-5-1)"
   ]
  },
  {
   "cell_type": "code",
   "execution_count": 63,
   "metadata": {},
   "outputs": [
    {
     "name": "stdout",
     "output_type": "stream",
     "text": [
      "[[[ 0  1  2]\n",
      "  [ 3  4  5]]\n",
      "\n",
      " [[ 6  7  8]\n",
      "  [ 9 10 11]]]\n",
      "\n",
      " [[ 2  5]\n",
      " [ 8 11]]\n"
     ]
    }
   ],
   "source": [
    "# reshape\n",
    "arr = np.arange(12).reshape(2,2,3)\n",
    "print(arr)\n",
    "print(\"\\n\",arr[ :, :, 2 ]) # : means ALL\n",
    "# Consider all arrays, all rows, but only col 2"
   ]
  },
  {
   "cell_type": "code",
   "execution_count": 65,
   "metadata": {},
   "outputs": [
    {
     "name": "stdout",
     "output_type": "stream",
     "text": [
      "\n",
      " [ 5 11]\n"
     ]
    }
   ],
   "source": [
    "print(\"\\n\",arr[ :, 1, 2 ]) # : means ALL"
   ]
  },
  {
   "cell_type": "code",
   "execution_count": 68,
   "metadata": {},
   "outputs": [
    {
     "name": "stdout",
     "output_type": "stream",
     "text": [
      "\n",
      " 11\n",
      "\n",
      " 11\n"
     ]
    }
   ],
   "source": [
    "print(\"\\n\",arr[ 1, 1, 2 ])\n",
    "print(\"\\n\",arr[1][1][2])"
   ]
  },
  {
   "cell_type": "code",
   "execution_count": 75,
   "metadata": {},
   "outputs": [
    {
     "name": "stdout",
     "output_type": "stream",
     "text": [
      "[[11 22 33]\n",
      " [44 55 66]\n",
      " [77 88 99]]\n",
      "[[11 22]\n",
      " [44 55]\n",
      " [77 88]]\n",
      "[33 66 99]\n"
     ]
    }
   ],
   "source": [
    "arr = np.array( [ [11,22,33], [44,55,66], [77,88,99] ])\n",
    "print(arr)\n",
    "X = arr[ : , :-1 ]\n",
    "# All rows, all cols except last col (i.e. -1)\n",
    "print(X)\n",
    "y = arr[ :, -1 ]\n",
    "# all rows of last col i.e -1 col\n",
    "print(y)"
   ]
  },
  {
   "cell_type": "code",
   "execution_count": 76,
   "metadata": {},
   "outputs": [
    {
     "name": "stdout",
     "output_type": "stream",
     "text": [
      "[[11 22 33]\n",
      " [44 55 66]\n",
      " [77 88 99]]\n",
      "\n",
      "\n",
      " [[11 22]\n",
      " [44 55]\n",
      " [77 88]] \n",
      "\n",
      " [33 66 99]\n"
     ]
    }
   ],
   "source": [
    "arr = np.array( [ [11,22,33], [44,55,66], [77,88,99] ])\n",
    "print(arr)\n",
    "X, y = arr[ : , :-1 ], arr[ :, -1 ]\n",
    "print(\"\\n\\n\",X,\"\\n\\n\",y)"
   ]
  },
  {
   "cell_type": "raw",
   "metadata": {},
   "source": [
    "2. Ufunc Universal Functions\n",
    "\n",
    "Operations on Numpy array"
   ]
  },
  {
   "cell_type": "code",
   "execution_count": 77,
   "metadata": {},
   "outputs": [
    {
     "data": {
      "text/plain": [
       "array([[ 0,  1,  2,  3,  4],\n",
       "       [ 5,  6,  7,  8,  9],\n",
       "       [10, 11, 12, 13, 14]])"
      ]
     },
     "execution_count": 77,
     "metadata": {},
     "output_type": "execute_result"
    }
   ],
   "source": [
    "arr = np.arange(15).reshape(3,5)\n",
    "arr"
   ]
  },
  {
   "cell_type": "code",
   "execution_count": 79,
   "metadata": {},
   "outputs": [
    {
     "data": {
      "text/plain": [
       "array([[ 5,  6,  7,  8,  9],\n",
       "       [10, 11, 12, 13, 14],\n",
       "       [15, 16, 17, 18, 19]])"
      ]
     },
     "execution_count": 79,
     "metadata": {},
     "output_type": "execute_result"
    }
   ],
   "source": [
    "arr+5 # Braodcast"
   ]
  },
  {
   "cell_type": "code",
   "execution_count": 81,
   "metadata": {},
   "outputs": [
    {
     "data": {
      "text/plain": [
       "array([[ 0,  2,  4,  6,  8],\n",
       "       [10, 12, 14, 16, 18],\n",
       "       [20, 22, 24, 26, 28]])"
      ]
     },
     "execution_count": 81,
     "metadata": {},
     "output_type": "execute_result"
    }
   ],
   "source": [
    "arr * 2"
   ]
  },
  {
   "cell_type": "code",
   "execution_count": 85,
   "metadata": {},
   "outputs": [
    {
     "name": "stdout",
     "output_type": "stream",
     "text": [
      "[[ 0  1  2]\n",
      " [ 3  4  5]\n",
      " [ 6  7  8]\n",
      " [ 9 10 11]\n",
      " [12 13 14]]\n",
      "\n",
      "[[0]\n",
      " [1]\n",
      " [2]\n",
      " [3]\n",
      " [4]]\n",
      "[[ 0  1  2]\n",
      " [ 4  5  6]\n",
      " [ 8  9 10]\n",
      " [12 13 14]\n",
      " [16 17 18]]\n"
     ]
    }
   ],
   "source": [
    "arr1 = np.arange(15).reshape(5,3)\n",
    "arr2 = np.arange(5).reshape(5,1)\n",
    "print(arr1)\n",
    "print()\n",
    "print(arr2)\n",
    "print(arr1 + arr2)"
   ]
  },
  {
   "cell_type": "code",
   "execution_count": 88,
   "metadata": {},
   "outputs": [
    {
     "name": "stdout",
     "output_type": "stream",
     "text": [
      "[[1 2 3]\n",
      " [4 5 6]\n",
      " [7 8 9]]\n",
      "\n",
      "[[11 22 33]\n",
      " [44 55 66]\n",
      " [ 7  8  9]]\n",
      "\n",
      "[[120 156 192]\n",
      " [306 411 516]\n",
      " [492 666 840]]\n"
     ]
    }
   ],
   "source": [
    "A = np.array([[1,2,3],[4,5,6],[7,8,9]])\n",
    "B = np.array([[11,22,33],[44,55,66],[7,8,9]])\n",
    "print(A)\n",
    "print()\n",
    "print(B)\n",
    "# Matrix Multiplication\n",
    "print()\n",
    "print(A.dot(B))"
   ]
  },
  {
   "cell_type": "code",
   "execution_count": 89,
   "metadata": {},
   "outputs": [
    {
     "name": "stdout",
     "output_type": "stream",
     "text": [
      "[[ 0  1  2  3  4]\n",
      " [ 5  6  7  8  9]\n",
      " [10 11 12 13 14]]\n",
      "\n",
      "[[ 0  5 10]\n",
      " [ 1  6 11]\n",
      " [ 2  7 12]\n",
      " [ 3  8 13]\n",
      " [ 4  9 14]]\n"
     ]
    }
   ],
   "source": [
    "# Transpose\n",
    "A = np.arange(15).reshape(3,5)\n",
    "print(A)\n",
    "print()\n",
    "print(A.T)"
   ]
  },
  {
   "cell_type": "raw",
   "metadata": {},
   "source": [
    "7x + 5y - 3z = 16\n",
    "3x - 5y + 2z = -8\n",
    "5x + 3y - 7z = 0\n",
    "Find x, y and z?\n",
    "Numpy can do this.\n",
    "HOW?\n",
    "Using linear algebra module of numpy"
   ]
  },
  {
   "cell_type": "code",
   "execution_count": 90,
   "metadata": {},
   "outputs": [
    {
     "name": "stdout",
     "output_type": "stream",
     "text": [
      "[1. 3. 2.]\n"
     ]
    }
   ],
   "source": [
    "a = np.array( [ [7,5,-3], [3,-5,2], [5,3,-7]  ] )\n",
    "b = np.array( [16,-8,0] )\n",
    "print(np.linalg.solve(a,b))"
   ]
  },
  {
   "cell_type": "code",
   "execution_count": 92,
   "metadata": {},
   "outputs": [
    {
     "name": "stdout",
     "output_type": "stream",
     "text": [
      "[[1 2]\n",
      " [3 4]]\n",
      "\n",
      "[[-2.   1. ]\n",
      " [ 1.5 -0.5]]\n"
     ]
    }
   ],
   "source": [
    "# Inverse of a Matrix\n",
    "Y = np.array(([1,2],[3,4]))\n",
    "print(Y)\n",
    "print()\n",
    "print(np.linalg.inv(Y))"
   ]
  },
  {
   "cell_type": "code",
   "execution_count": 93,
   "metadata": {},
   "outputs": [
    {
     "name": "stdout",
     "output_type": "stream",
     "text": [
      "[[1 2 3]\n",
      " [4 5 6]\n",
      " [7 8 9]]\n",
      "\n",
      "6.66133814775094e-16\n"
     ]
    }
   ],
   "source": [
    "# Determinant of a Matrix\n",
    "A = np.array([[1,2,3],[4,5,6],[7,8,9]])\n",
    "print(A)\n",
    "print()\n",
    "print(np.linalg.det(A))"
   ]
  },
  {
   "cell_type": "code",
   "execution_count": 94,
   "metadata": {},
   "outputs": [
    {
     "name": "stdout",
     "output_type": "stream",
     "text": [
      "[[1 2 3]\n",
      " [4 5 6]\n",
      " [7 8 9]]\n",
      "\n",
      "15\n"
     ]
    }
   ],
   "source": [
    "# Trace of a Matrix\n",
    "A = np.array([[1,2,3],[4,5,6],[7,8,9]])\n",
    "print(A)\n",
    "print()\n",
    "print(np.trace(A))"
   ]
  },
  {
   "cell_type": "markdown",
   "metadata": {},
   "source": [
    "# Matplotlib\n",
    "\n",
    "Platform for Data Visualizations i.e Making Graphs and charts"
   ]
  },
  {
   "cell_type": "code",
   "execution_count": 95,
   "metadata": {
    "collapsed": true
   },
   "outputs": [],
   "source": [
    "import matplotlib as mpl\n",
    "import matplotlib.pyplot as plt"
   ]
  },
  {
   "cell_type": "code",
   "execution_count": 97,
   "metadata": {
    "collapsed": true
   },
   "outputs": [],
   "source": [
    "# Setting Styles of the visualizations\n",
    "plt.style.use('classic')\n",
    "# https://tonysyu.github.io/raw_content/matplotlib-style-gallery/gallery.html"
   ]
  },
  {
   "cell_type": "code",
   "execution_count": 103,
   "metadata": {},
   "outputs": [
    {
     "data": {
      "image/png": "[encoded data removed]",
      "text/plain": [
       "<Figure size 640x480 with 1 Axes>"
      ]
     },
     "metadata": {},
     "output_type": "display_data"
    }
   ],
   "source": [
    "import numpy as np\n",
    "\n",
    "x = np.linspace(0, 10, 100) # generate 100 uniformly spaced values between (0,10)\n",
    "plt.plot( x, np.sin(x) )\n",
    "plt.plot( x, np.cos(x) );"
   ]
  },
  {
   "cell_type": "code",
   "execution_count": 104,
   "metadata": {
    "collapsed": true
   },
   "outputs": [],
   "source": [
    "# By default, matplotlib can be visualized in 2 modes:\n",
    "# inline mode, this is by default\n",
    "# notebook mode"
   ]
  },
  {
   "cell_type": "code",
   "execution_count": 105,
   "metadata": {
    "collapsed": true
   },
   "outputs": [],
   "source": [
    "%matplotlib notebook"
   ]
  },
  {
   "cell_type": "code",
   "execution_count": 106,
   "metadata": {},
   "outputs": [
    {
     "data": {
      "application/javascript": [
       "/* Put everything inside the global mpl namespace */\n",
       "window.mpl = {};\n",
       "\n",
       "\n",
       "mpl.get_websocket_type = function() {\n",
       "    if (typeof(WebSocket) !== 'undefined') {\n",
       "        return WebSocket;\n",
       "    } else if (typeof(MozWebSocket) !== 'undefined') {\n",
       "        return MozWebSocket;\n",
       "    } else {\n",
       "        alert('Your browser does not have WebSocket support. ' +\n",
       "              'Please try Chrome, Safari or Firefox ≥ 6. ' +\n",
       "              'Firefox 4 and 5 are also supported but you ' +\n",
       "              'have to enable WebSockets in about:config.');\n",
       "    };\n",
       "}\n",
       "\n",
       "mpl.figure = function(figure_id, websocket, ondownload, parent_element) {\n",
       "    this.id = figure_id;\n",
       "\n",
       "    this.ws = websocket;\n",
       "\n",
       "    this.supports_binary = (this.ws.binaryType != undefined);\n",
       "\n",
       "    if (!this.supports_binary) {\n",
       "        var warnings = document.getElementById(\"mpl-warnings\");\n",
       "        if (warnings) {\n",
       "            warnings.style.display = 'block';\n",
       "            warnings.textContent = (\n",
       "                \"This browser does not support binary websocket messages. \" +\n",
       "                    \"Performance may be slow.\");\n",
       "        }\n",
       "    }\n",
       "\n",
       "    this.imageObj = new Image();\n",
       "\n",
       "    this.context = undefined;\n",
       "    this.message = undefined;\n",
       "    this.canvas = undefined;\n",
       "    this.rubberband_canvas = undefined;\n",
       "    this.rubberband_context = undefined;\n",
       "    this.format_dropdown = undefined;\n",
       "\n",
       "    this.image_mode = 'full';\n",
       "\n",
       "    this.root = $('<div/>');\n",
       "    this._root_extra_style(this.root)\n",
       "    this.root.attr('style', 'display: inline-block');\n",
       "\n",
       "    $(parent_element).append(this.root);\n",
       "\n",
       "    this._init_header(this);\n",
       "    this._init_canvas(this);\n",
       "    this._init_toolbar(this);\n",
       "\n",
       "    var fig = this;\n",
       "\n",
       "    this.waiting = false;\n",
       "\n",
       "    this.ws.onopen =  function () {\n",
       "            fig.send_message(\"supports_binary\", {value: fig.supports_binary});\n",
       "            fig.send_message(\"send_image_mode\", {});\n",
       "            if (mpl.ratio != 1) {\n",
       "                fig.send_message(\"set_dpi_ratio\", {'dpi_ratio': mpl.ratio});\n",
       "            }\n",
       "            fig.send_message(\"refresh\", {});\n",
       "        }\n",
       "\n",
       "    this.imageObj.onload = function() {\n",
       "            if (fig.image_mode == 'full') {\n",
       "                // Full images could contain transparency (where diff images\n",
       "                // almost always do), so we need to clear the canvas so that\n",
       "                // there is no ghosting.\n",
       "                fig.context.clearRect(0, 0, fig.canvas.width, fig.canvas.height);\n",
       "            }\n",
       "            fig.context.drawImage(fig.imageObj, 0, 0);\n",
       "        };\n",
       "\n",
       "    this.imageObj.onunload = function() {\n",
       "        fig.ws.close();\n",
       "    }\n",
       "\n",
       "    this.ws.onmessage = this._make_on_message_function(this);\n",
       "\n",
       "    this.ondownload = ondownload;\n",
       "}\n",
       "\n",
       "mpl.figure.prototype._init_header = function() {\n",
       "    var titlebar = $(\n",
       "        '<div class=\"ui-dialog-titlebar ui-widget-header ui-corner-all ' +\n",
       "        'ui-helper-clearfix\"/>');\n",
       "    var titletext = $(\n",
       "        '<div class=\"ui-dialog-title\" style=\"width: 100%; ' +\n",
       "        'text-align: center; padding: 3px;\"/>');\n",
       "    titlebar.append(titletext)\n",
       "    this.root.append(titlebar);\n",
       "    this.header = titletext[0];\n",
       "}\n",
       "\n",
       "\n",
       "\n",
       "mpl.figure.prototype._canvas_extra_style = function(canvas_div) {\n",
       "\n",
       "}\n",
       "\n",
       "\n",
       "mpl.figure.prototype._root_extra_style = function(canvas_div) {\n",
       "\n",
       "}\n",
       "\n",
       "mpl.figure.prototype._init_canvas = function() {\n",
       "    var fig = this;\n",
       "\n",
       "    var canvas_div = $('<div/>');\n",
       "\n",
       "    canvas_div.attr('style', 'position: relative; clear: both; outline: 0');\n",
       "\n",
       "    function canvas_keyboard_event(event) {\n",
       "        return fig.key_event(event, event['data']);\n",
       "    }\n",
       "\n",
       "    canvas_div.keydown('key_press', canvas_keyboard_event);\n",
       "    canvas_div.keyup('key_release', canvas_keyboard_event);\n",
       "    this.canvas_div = canvas_div\n",
       "    this._canvas_extra_style(canvas_div)\n",
       "    this.root.append(canvas_div);\n",
       "\n",
       "    var canvas = $('<canvas/>');\n",
       "    canvas.addClass('mpl-canvas');\n",
       "    canvas.attr('style', \"left: 0; top: 0; z-index: 0; outline: 0\")\n",
       "\n",
       "    this.canvas = canvas[0];\n",
       "    this.context = canvas[0].getContext(\"2d\");\n",
       "\n",
       "    var backingStore = this.context.backingStorePixelRatio ||\n",
       "\tthis.context.webkitBackingStorePixelRatio ||\n",
       "\tthis.context.mozBackingStorePixelRatio ||\n",
       "\tthis.context.msBackingStorePixelRatio ||\n",
       "\tthis.context.oBackingStorePixelRatio ||\n",
       "\tthis.context.backingStorePixelRatio || 1;\n",
       "\n",
       "    mpl.ratio = (window.devicePixelRatio || 1) / backingStore;\n",
       "\n",
       "    var rubberband = $('<canvas/>');\n",
       "    rubberband.attr('style', \"position: absolute; left: 0; top: 0; z-index: 1;\")\n",
       "\n",
       "    var pass_mouse_events = true;\n",
       "\n",
       "    canvas_div.resizable({\n",
       "        start: function(event, ui) {\n",
       "            pass_mouse_events = false;\n",
       "        },\n",
       "        resize: function(event, ui) {\n",
       "            fig.request_resize(ui.size.width, ui.size.height);\n",
       "        },\n",
       "        stop: function(event, ui) {\n",
       "            pass_mouse_events = true;\n",
       "            fig.request_resize(ui.size.width, ui.size.height);\n",
       "        },\n",
       "    });\n",
       "\n",
       "    function mouse_event_fn(event) {\n",
       "        if (pass_mouse_events)\n",
       "            return fig.mouse_event(event, event['data']);\n",
       "    }\n",
       "\n",
       "    rubberband.mousedown('button_press', mouse_event_fn);\n",
       "    rubberband.mouseup('button_release', mouse_event_fn);\n",
       "    // Throttle sequential mouse events to 1 every 20ms.\n",
       "    rubberband.mousemove('motion_notify', mouse_event_fn);\n",
       "\n",
       "    rubberband.mouseenter('figure_enter', mouse_event_fn);\n",
       "    rubberband.mouseleave('figure_leave', mouse_event_fn);\n",
       "\n",
       "    canvas_div.on(\"wheel\", function (event) {\n",
       "        event = event.originalEvent;\n",
       "        event['data'] = 'scroll'\n",
       "        if (event.deltaY < 0) {\n",
       "            event.step = 1;\n",
       "        } else {\n",
       "            event.step = -1;\n",
       "        }\n",
       "        mouse_event_fn(event);\n",
       "    });\n",
       "\n",
       "    canvas_div.append(canvas);\n",
       "    canvas_div.append(rubberband);\n",
       "\n",
       "    this.rubberband = rubberband;\n",
       "    this.rubberband_canvas = rubberband[0];\n",
       "    this.rubberband_context = rubberband[0].getContext(\"2d\");\n",
       "    this.rubberband_context.strokeStyle = \"#000000\";\n",
       "\n",
       "    this._resize_canvas = function(width, height) {\n",
       "        // Keep the size of the canvas, canvas container, and rubber band\n",
       "        // canvas in synch.\n",
       "        canvas_div.css('width', width)\n",
       "        canvas_div.css('height', height)\n",
       "\n",
       "        canvas.attr('width', width * mpl.ratio);\n",
       "        canvas.attr('height', height * mpl.ratio);\n",
       "        canvas.attr('style', 'width: ' + width + 'px; height: ' + height + 'px;');\n",
       "\n",
       "        rubberband.attr('width', width);\n",
       "        rubberband.attr('height', height);\n",
       "    }\n",
       "\n",
       "    // Set the figure to an initial 600x600px, this will subsequently be updated\n",
       "    // upon first draw.\n",
       "    this._resize_canvas(600, 600);\n",
       "\n",
       "    // Disable right mouse context menu.\n",
       "    $(this.rubberband_canvas).bind(\"contextmenu\",function(e){\n",
       "        return false;\n",
       "    });\n",
       "\n",
       "    function set_focus () {\n",
       "        canvas.focus();\n",
       "        canvas_div.focus();\n",
       "    }\n",
       "\n",
       "    window.setTimeout(set_focus, 100);\n",
       "}\n",
       "\n",
       "mpl.figure.prototype._init_toolbar = function() {\n",
       "    var fig = this;\n",
       "\n",
       "    var nav_element = $('<div/>');\n",
       "    nav_element.attr('style', 'width: 100%');\n",
       "    this.root.append(nav_element);\n",
       "\n",
       "    // Define a callback function for later on.\n",
       "    function toolbar_event(event) {\n",
       "        return fig.toolbar_button_onclick(event['data']);\n",
       "    }\n",
       "    function toolbar_mouse_event(event) {\n",
       "        return fig.toolbar_button_onmouseover(event['data']);\n",
       "    }\n",
       "\n",
       "    for(var toolbar_ind in mpl.toolbar_items) {\n",
       "        var name = mpl.toolbar_items[toolbar_ind][0];\n",
       "        var tooltip = mpl.toolbar_items[toolbar_ind][1];\n",
       "        var image = mpl.toolbar_items[toolbar_ind][2];\n",
       "        var method_name = mpl.toolbar_items[toolbar_ind][3];\n",
       "\n",
       "        if (!name) {\n",
       "            // put a spacer in here.\n",
       "            continue;\n",
       "        }\n",
       "        var button = $('<button/>');\n",
       "        button.addClass('ui-button ui-widget ui-state-default ui-corner-all ' +\n",
       "                        'ui-button-icon-only');\n",
       "        button.attr('role', 'button');\n",
       "        button.attr('aria-disabled', 'false');\n",
       "        button.click(method_name, toolbar_event);\n",
       "        button.mouseover(tooltip, toolbar_mouse_event);\n",
       "\n",
       "        var icon_img = $('<span/>');\n",
       "        icon_img.addClass('ui-button-icon-primary ui-icon');\n",
       "        icon_img.addClass(image);\n",
       "        icon_img.addClass('ui-corner-all');\n",
       "\n",
       "        var tooltip_span = $('<span/>');\n",
       "        tooltip_span.addClass('ui-button-text');\n",
       "        tooltip_span.html(tooltip);\n",
       "\n",
       "        button.append(icon_img);\n",
       "        button.append(tooltip_span);\n",
       "\n",
       "        nav_element.append(button);\n",
       "    }\n",
       "\n",
       "    var fmt_picker_span = $('<span/>');\n",
       "\n",
       "    var fmt_picker = $('<select/>');\n",
       "    fmt_picker.addClass('mpl-toolbar-option ui-widget ui-widget-content');\n",
       "    fmt_picker_span.append(fmt_picker);\n",
       "    nav_element.append(fmt_picker_span);\n",
       "    this.format_dropdown = fmt_picker[0];\n",
       "\n",
       "    for (var ind in mpl.extensions) {\n",
       "        var fmt = mpl.extensions[ind];\n",
       "        var option = $(\n",
       "            '<option/>', {selected: fmt === mpl.default_extension}).html(fmt);\n",
       "        fmt_picker.append(option);\n",
       "    }\n",
       "\n",
       "    // Add hover states to the ui-buttons\n",
       "    $( \".ui-button\" ).hover(\n",
       "        function() { $(this).addClass(\"ui-state-hover\");},\n",
       "        function() { $(this).removeClass(\"ui-state-hover\");}\n",
       "    );\n",
       "\n",
       "    var status_bar = $('<span class=\"mpl-message\"/>');\n",
       "    nav_element.append(status_bar);\n",
       "    this.message = status_bar[0];\n",
       "}\n",
       "\n",
       "mpl.figure.prototype.request_resize = function(x_pixels, y_pixels) {\n",
       "    // Request matplotlib to resize the figure. Matplotlib will then trigger a resize in the client,\n",
       "    // which will in turn request a refresh of the image.\n",
       "    this.send_message('resize', {'width': x_pixels, 'height': y_pixels});\n",
       "}\n",
       "\n",
       "mpl.figure.prototype.send_message = function(type, properties) {\n",
       "    properties['type'] = type;\n",
       "    properties['figure_id'] = this.id;\n",
       "    this.ws.send(JSON.stringify(properties));\n",
       "}\n",
       "\n",
       "mpl.figure.prototype.send_draw_message = function() {\n",
       "    if (!this.waiting) {\n",
       "        this.waiting = true;\n",
       "        this.ws.send(JSON.stringify({type: \"draw\", figure_id: this.id}));\n",
       "    }\n",
       "}\n",
       "\n",
       "\n",
       "mpl.figure.prototype.handle_save = function(fig, msg) {\n",
       "    var format_dropdown = fig.format_dropdown;\n",
       "    var format = format_dropdown.options[format_dropdown.selectedIndex].value;\n",
       "    fig.ondownload(fig, format);\n",
       "}\n",
       "\n",
       "\n",
       "mpl.figure.prototype.handle_resize = function(fig, msg) {\n",
       "    var size = msg['size'];\n",
       "    if (size[0] != fig.canvas.width || size[1] != fig.canvas.height) {\n",
       "        fig._resize_canvas(size[0], size[1]);\n",
       "        fig.send_message(\"refresh\", {});\n",
       "    };\n",
       "}\n",
       "\n",
       "mpl.figure.prototype.handle_rubberband = function(fig, msg) {\n",
       "    var x0 = msg['x0'] / mpl.ratio;\n",
       "    var y0 = (fig.canvas.height - msg['y0']) / mpl.ratio;\n",
       "    var x1 = msg['x1'] / mpl.ratio;\n",
       "    var y1 = (fig.canvas.height - msg['y1']) / mpl.ratio;\n",
       "    x0 = Math.floor(x0) + 0.5;\n",
       "    y0 = Math.floor(y0) + 0.5;\n",
       "    x1 = Math.floor(x1) + 0.5;\n",
       "    y1 = Math.floor(y1) + 0.5;\n",
       "    var min_x = Math.min(x0, x1);\n",
       "    var min_y = Math.min(y0, y1);\n",
       "    var width = Math.abs(x1 - x0);\n",
       "    var height = Math.abs(y1 - y0);\n",
       "\n",
       "    fig.rubberband_context.clearRect(\n",
       "        0, 0, fig.canvas.width / mpl.ratio, fig.canvas.height / mpl.ratio);\n",
       "\n",
       "    fig.rubberband_context.strokeRect(min_x, min_y, width, height);\n",
       "}\n",
       "\n",
       "mpl.figure.prototype.handle_figure_label = function(fig, msg) {\n",
       "    // Updates the figure title.\n",
       "    fig.header.textContent = msg['label'];\n",
       "}\n",
       "\n",
       "mpl.figure.prototype.handle_cursor = function(fig, msg) {\n",
       "    var cursor = msg['cursor'];\n",
       "    switch(cursor)\n",
       "    {\n",
       "    case 0:\n",
       "        cursor = 'pointer';\n",
       "        break;\n",
       "    case 1:\n",
       "        cursor = 'default';\n",
       "        break;\n",
       "    case 2:\n",
       "        cursor = 'crosshair';\n",
       "        break;\n",
       "    case 3:\n",
       "        cursor = 'move';\n",
       "        break;\n",
       "    }\n",
       "    fig.rubberband_canvas.style.cursor = cursor;\n",
       "}\n",
       "\n",
       "mpl.figure.prototype.handle_message = function(fig, msg) {\n",
       "    fig.message.textContent = msg['message'];\n",
       "}\n",
       "\n",
       "mpl.figure.prototype.handle_draw = function(fig, msg) {\n",
       "    // Request the server to send over a new figure.\n",
       "    fig.send_draw_message();\n",
       "}\n",
       "\n",
       "mpl.figure.prototype.handle_image_mode = function(fig, msg) {\n",
       "    fig.image_mode = msg['mode'];\n",
       "}\n",
       "\n",
       "mpl.figure.prototype.updated_canvas_event = function() {\n",
       "    // Called whenever the canvas gets updated.\n",
       "    this.send_message(\"ack\", {});\n",
       "}\n",
       "\n",
       "// A function to construct a web socket function for onmessage handling.\n",
       "// Called in the figure constructor.\n",
       "mpl.figure.prototype._make_on_message_function = function(fig) {\n",
       "    return function socket_on_message(evt) {\n",
       "        if (evt.data instanceof Blob) {\n",
       "            /* FIXME: We get \"Resource interpreted as Image but\n",
       "             * transferred with MIME type text/plain:\" errors on\n",
       "             * Chrome.  But how to set the MIME type?  It doesn't seem\n",
       "             * to be part of the websocket stream */\n",
       "            evt.data.type = \"image/png\";\n",
       "\n",
       "            /* Free the memory for the previous frames */\n",
       "            if (fig.imageObj.src) {\n",
       "                (window.URL || window.webkitURL).revokeObjectURL(\n",
       "                    fig.imageObj.src);\n",
       "            }\n",
       "\n",
       "            fig.imageObj.src = (window.URL || window.webkitURL).createObjectURL(\n",
       "                evt.data);\n",
       "            fig.updated_canvas_event();\n",
       "            fig.waiting = false;\n",
       "            return;\n",
       "        }\n",
       "        else if (typeof evt.data === 'string' && evt.data.slice(0, 21) == \"data:image/png;base64\") {\n",
       "            fig.imageObj.src = evt.data;\n",
       "            fig.updated_canvas_event();\n",
       "            fig.waiting = false;\n",
       "            return;\n",
       "        }\n",
       "\n",
       "        var msg = JSON.parse(evt.data);\n",
       "        var msg_type = msg['type'];\n",
       "\n",
       "        // Call the  \"handle_{type}\" callback, which takes\n",
       "        // the figure and JSON message as its only arguments.\n",
       "        try {\n",
       "            var callback = fig[\"handle_\" + msg_type];\n",
       "        } catch (e) {\n",
       "            console.log(\"No handler for the '\" + msg_type + \"' message type: \", msg);\n",
       "            return;\n",
       "        }\n",
       "\n",
       "        if (callback) {\n",
       "            try {\n",
       "                // console.log(\"Handling '\" + msg_type + \"' message: \", msg);\n",
       "                callback(fig, msg);\n",
       "            } catch (e) {\n",
       "                console.log(\"Exception inside the 'handler_\" + msg_type + \"' callback:\", e, e.stack, msg);\n",
       "            }\n",
       "        }\n",
       "    };\n",
       "}\n",
       "\n",
       "// from http://stackoverflow.com/questions/1114465/getting-mouse-location-in-canvas\n",
       "mpl.findpos = function(e) {\n",
       "    //this section is from http://www.quirksmode.org/js/events_properties.html\n",
       "    var targ;\n",
       "    if (!e)\n",
       "        e = window.event;\n",
       "    if (e.target)\n",
       "        targ = e.target;\n",
       "    else if (e.srcElement)\n",
       "        targ = e.srcElement;\n",
       "    if (targ.nodeType == 3) // defeat Safari bug\n",
       "        targ = targ.parentNode;\n",
       "\n",
       "    // jQuery normalizes the pageX and pageY\n",
       "    // pageX,Y are the mouse positions relative to the document\n",
       "    // offset() returns the position of the element relative to the document\n",
       "    var x = e.pageX - $(targ).offset().left;\n",
       "    var y = e.pageY - $(targ).offset().top;\n",
       "\n",
       "    return {\"x\": x, \"y\": y};\n",
       "};\n",
       "\n",
       "/*\n",
       " * return a copy of an object with only non-object keys\n",
       " * we need this to avoid circular references\n",
       " * http://stackoverflow.com/a/24161582/3208463\n",
       " */\n",
       "function simpleKeys (original) {\n",
       "  return Object.keys(original).reduce(function (obj, key) {\n",
       "    if (typeof original[key] !== 'object')\n",
       "        obj[key] = original[key]\n",
       "    return obj;\n",
       "  }, {});\n",
       "}\n",
       "\n",
       "mpl.figure.prototype.mouse_event = function(event, name) {\n",
       "    var canvas_pos = mpl.findpos(event)\n",
       "\n",
       "    if (name === 'button_press')\n",
       "    {\n",
       "        this.canvas.focus();\n",
       "        this.canvas_div.focus();\n",
       "    }\n",
       "\n",
       "    var x = canvas_pos.x * mpl.ratio;\n",
       "    var y = canvas_pos.y * mpl.ratio;\n",
       "\n",
       "    this.send_message(name, {x: x, y: y, button: event.button,\n",
       "                             step: event.step,\n",
       "                             guiEvent: simpleKeys(event)});\n",
       "\n",
       "    /* This prevents the web browser from automatically changing to\n",
       "     * the text insertion cursor when the button is pressed.  We want\n",
       "     * to control all of the cursor setting manually through the\n",
       "     * 'cursor' event from matplotlib */\n",
       "    event.preventDefault();\n",
       "    return false;\n",
       "}\n",
       "\n",
       "mpl.figure.prototype._key_event_extra = function(event, name) {\n",
       "    // Handle any extra behaviour associated with a key event\n",
       "}\n",
       "\n",
       "mpl.figure.prototype.key_event = function(event, name) {\n",
       "\n",
       "    // Prevent repeat events\n",
       "    if (name == 'key_press')\n",
       "    {\n",
       "        if (event.which === this._key)\n",
       "            return;\n",
       "        else\n",
       "            this._key = event.which;\n",
       "    }\n",
       "    if (name == 'key_release')\n",
       "        this._key = null;\n",
       "\n",
       "    var value = '';\n",
       "    if (event.ctrlKey && event.which != 17)\n",
       "        value += \"ctrl+\";\n",
       "    if (event.altKey && event.which != 18)\n",
       "        value += \"alt+\";\n",
       "    if (event.shiftKey && event.which != 16)\n",
       "        value += \"shift+\";\n",
       "\n",
       "    value += 'k';\n",
       "    value += event.which.toString();\n",
       "\n",
       "    this._key_event_extra(event, name);\n",
       "\n",
       "    this.send_message(name, {key: value,\n",
       "                             guiEvent: simpleKeys(event)});\n",
       "    return false;\n",
       "}\n",
       "\n",
       "mpl.figure.prototype.toolbar_button_onclick = function(name) {\n",
       "    if (name == 'download') {\n",
       "        this.handle_save(this, null);\n",
       "    } else {\n",
       "        this.send_message(\"toolbar_button\", {name: name});\n",
       "    }\n",
       "};\n",
       "\n",
       "mpl.figure.prototype.toolbar_button_onmouseover = function(tooltip) {\n",
       "    this.message.textContent = tooltip;\n",
       "};\n",
       "mpl.toolbar_items = [[\"Home\", \"Reset original view\", \"fa fa-home icon-home\", \"home\"], [\"Back\", \"Back to previous view\", \"fa fa-arrow-left icon-arrow-left\", \"back\"], [\"Forward\", \"Forward to next view\", \"fa fa-arrow-right icon-arrow-right\", \"forward\"], [\"\", \"\", \"\", \"\"], [\"Pan\", \"Pan axes with left mouse, zoom with right\", \"fa fa-arrows icon-move\", \"pan\"], [\"Zoom\", \"Zoom to rectangle\", \"fa fa-square-o icon-check-empty\", \"zoom\"], [\"\", \"\", \"\", \"\"], [\"Download\", \"Download plot\", \"fa fa-floppy-o icon-save\", \"download\"]];\n",
       "\n",
       "mpl.extensions = [\"eps\", \"jpeg\", \"pdf\", \"png\", \"ps\", \"raw\", \"svg\", \"tif\"];\n",
       "\n",
       "mpl.default_extension = \"png\";var comm_websocket_adapter = function(comm) {\n",
       "    // Create a \"websocket\"-like object which calls the given IPython comm\n",
       "    // object with the appropriate methods. Currently this is a non binary\n",
       "    // socket, so there is still some room for performance tuning.\n",
       "    var ws = {};\n",
       "\n",
       "    ws.close = function() {\n",
       "        comm.close()\n",
       "    };\n",
       "    ws.send = function(m) {\n",
       "        //console.log('sending', m);\n",
       "        comm.send(m);\n",
       "    };\n",
       "    // Register the callback with on_msg.\n",
       "    comm.on_msg(function(msg) {\n",
       "        //console.log('receiving', msg['content']['data'], msg);\n",
       "        // Pass the mpl event to the overridden (by mpl) onmessage function.\n",
       "        ws.onmessage(msg['content']['data'])\n",
       "    });\n",
       "    return ws;\n",
       "}\n",
       "\n",
       "mpl.mpl_figure_comm = function(comm, msg) {\n",
       "    // This is the function which gets called when the mpl process\n",
       "    // starts-up an IPython Comm through the \"matplotlib\" channel.\n",
       "\n",
       "    var id = msg.content.data.id;\n",
       "    // Get hold of the div created by the display call when the Comm\n",
       "    // socket was opened in Python.\n",
       "    var element = $(\"#\" + id);\n",
       "    var ws_proxy = comm_websocket_adapter(comm)\n",
       "\n",
       "    function ondownload(figure, format) {\n",
       "        window.open(figure.imageObj.src);\n",
       "    }\n",
       "\n",
       "    var fig = new mpl.figure(id, ws_proxy,\n",
       "                           ondownload,\n",
       "                           element.get(0));\n",
       "\n",
       "    // Call onopen now - mpl needs it, as it is assuming we've passed it a real\n",
       "    // web socket which is closed, not our websocket->open comm proxy.\n",
       "    ws_proxy.onopen();\n",
       "\n",
       "    fig.parent_element = element.get(0);\n",
       "    fig.cell_info = mpl.find_output_cell(\"<div id='\" + id + \"'></div>\");\n",
       "    if (!fig.cell_info) {\n",
       "        console.error(\"Failed to find cell for figure\", id, fig);\n",
       "        return;\n",
       "    }\n",
       "\n",
       "    var output_index = fig.cell_info[2]\n",
       "    var cell = fig.cell_info[0];\n",
       "\n",
       "};\n",
       "\n",
       "mpl.figure.prototype.handle_close = function(fig, msg) {\n",
       "    var width = fig.canvas.width/mpl.ratio\n",
       "    fig.root.unbind('remove')\n",
       "\n",
       "    // Update the output cell to use the data from the current canvas.\n",
       "    fig.push_to_output();\n",
       "    var dataURL = fig.canvas.toDataURL();\n",
       "    // Re-enable the keyboard manager in IPython - without this line, in FF,\n",
       "    // the notebook keyboard shortcuts fail.\n",
       "    IPython.keyboard_manager.enable()\n",
       "    $(fig.parent_element).html('<img src=\"' + dataURL + '\" width=\"' + width + '\">');\n",
       "    fig.close_ws(fig, msg);\n",
       "}\n",
       "\n",
       "mpl.figure.prototype.close_ws = function(fig, msg){\n",
       "    fig.send_message('closing', msg);\n",
       "    // fig.ws.close()\n",
       "}\n",
       "\n",
       "mpl.figure.prototype.push_to_output = function(remove_interactive) {\n",
       "    // Turn the data on the canvas into data in the output cell.\n",
       "    var width = this.canvas.width/mpl.ratio\n",
       "    var dataURL = this.canvas.toDataURL();\n",
       "    this.cell_info[1]['text/html'] = '<img src=\"' + dataURL + '\" width=\"' + width + '\">';\n",
       "}\n",
       "\n",
       "mpl.figure.prototype.updated_canvas_event = function() {\n",
       "    // Tell IPython that the notebook contents must change.\n",
       "    IPython.notebook.set_dirty(true);\n",
       "    this.send_message(\"ack\", {});\n",
       "    var fig = this;\n",
       "    // Wait a second, then push the new image to the DOM so\n",
       "    // that it is saved nicely (might be nice to debounce this).\n",
       "    setTimeout(function () { fig.push_to_output() }, 1000);\n",
       "}\n",
       "\n",
       "mpl.figure.prototype._init_toolbar = function() {\n",
       "    var fig = this;\n",
       "\n",
       "    var nav_element = $('<div/>');\n",
       "    nav_element.attr('style', 'width: 100%');\n",
       "    this.root.append(nav_element);\n",
       "\n",
       "    // Define a callback function for later on.\n",
       "    function toolbar_event(event) {\n",
       "        return fig.toolbar_button_onclick(event['data']);\n",
       "    }\n",
       "    function toolbar_mouse_event(event) {\n",
       "        return fig.toolbar_button_onmouseover(event['data']);\n",
       "    }\n",
       "\n",
       "    for(var toolbar_ind in mpl.toolbar_items){\n",
       "        var name = mpl.toolbar_items[toolbar_ind][0];\n",
       "        var tooltip = mpl.toolbar_items[toolbar_ind][1];\n",
       "        var image = mpl.toolbar_items[toolbar_ind][2];\n",
       "        var method_name = mpl.toolbar_items[toolbar_ind][3];\n",
       "\n",
       "        if (!name) { continue; };\n",
       "\n",
       "        var button = $('<button class=\"btn btn-default\" href=\"#\" title=\"' + name + '\"><i class=\"fa ' + image + ' fa-lg\"></i></button>');\n",
       "        button.click(method_name, toolbar_event);\n",
       "        button.mouseover(tooltip, toolbar_mouse_event);\n",
       "        nav_element.append(button);\n",
       "    }\n",
       "\n",
       "    // Add the status bar.\n",
       "    var status_bar = $('<span class=\"mpl-message\" style=\"text-align:right; float: right;\"/>');\n",
       "    nav_element.append(status_bar);\n",
       "    this.message = status_bar[0];\n",
       "\n",
       "    // Add the close button to the window.\n",
       "    var buttongrp = $('<div class=\"btn-group inline pull-right\"></div>');\n",
       "    var button = $('<button class=\"btn btn-mini btn-primary\" href=\"#\" title=\"Stop Interaction\"><i class=\"fa fa-power-off icon-remove icon-large\"></i></button>');\n",
       "    button.click(function (evt) { fig.handle_close(fig, {}); } );\n",
       "    button.mouseover('Stop Interaction', toolbar_mouse_event);\n",
       "    buttongrp.append(button);\n",
       "    var titlebar = this.root.find($('.ui-dialog-titlebar'));\n",
       "    titlebar.prepend(buttongrp);\n",
       "}\n",
       "\n",
       "mpl.figure.prototype._root_extra_style = function(el){\n",
       "    var fig = this\n",
       "    el.on(\"remove\", function(){\n",
       "\tfig.close_ws(fig, {});\n",
       "    });\n",
       "}\n",
       "\n",
       "mpl.figure.prototype._canvas_extra_style = function(el){\n",
       "    // this is important to make the div 'focusable\n",
       "    el.attr('tabindex', 0)\n",
       "    // reach out to IPython and tell the keyboard manager to turn it's self\n",
       "    // off when our div gets focus\n",
       "\n",
       "    // location in version 3\n",
       "    if (IPython.notebook.keyboard_manager) {\n",
       "        IPython.notebook.keyboard_manager.register_events(el);\n",
       "    }\n",
       "    else {\n",
       "        // location in version 2\n",
       "        IPython.keyboard_manager.register_events(el);\n",
       "    }\n",
       "\n",
       "}\n",
       "\n",
       "mpl.figure.prototype._key_event_extra = function(event, name) {\n",
       "    var manager = IPython.notebook.keyboard_manager;\n",
       "    if (!manager)\n",
       "        manager = IPython.keyboard_manager;\n",
       "\n",
       "    // Check for shift+enter\n",
       "    if (event.shiftKey && event.which == 13) {\n",
       "        this.canvas_div.blur();\n",
       "        event.shiftKey = false;\n",
       "        // Send a \"J\" for go to next cell\n",
       "        event.which = 74;\n",
       "        event.keyCode = 74;\n",
       "        manager.command_mode();\n",
       "        manager.handle_keydown(event);\n",
       "    }\n",
       "}\n",
       "\n",
       "mpl.figure.prototype.handle_save = function(fig, msg) {\n",
       "    fig.ondownload(fig, null);\n",
       "}\n",
       "\n",
       "\n",
       "mpl.find_output_cell = function(html_output) {\n",
       "    // Return the cell and output element which can be found *uniquely* in the notebook.\n",
       "    // Note - this is a bit hacky, but it is done because the \"notebook_saving.Notebook\"\n",
       "    // IPython event is triggered only after the cells have been serialised, which for\n",
       "    // our purposes (turning an active figure into a static one), is too late.\n",
       "    var cells = IPython.notebook.get_cells();\n",
       "    var ncells = cells.length;\n",
       "    for (var i=0; i<ncells; i++) {\n",
       "        var cell = cells[i];\n",
       "        if (cell.cell_type === 'code'){\n",
       "            for (var j=0; j<cell.output_area.outputs.length; j++) {\n",
       "                var data = cell.output_area.outputs[j];\n",
       "                if (data.data) {\n",
       "                    // IPython >= 3 moved mimebundle to data attribute of output\n",
       "                    data = data.data;\n",
       "                }\n",
       "                if (data['text/html'] == html_output) {\n",
       "                    return [cell, data, j];\n",
       "                }\n",
       "            }\n",
       "        }\n",
       "    }\n",
       "}\n",
       "\n",
       "// Register the function which deals with the matplotlib target/channel.\n",
       "// The kernel may be null if the page has been refreshed.\n",
       "if (IPython.notebook.kernel != null) {\n",
       "    IPython.notebook.kernel.comm_manager.register_target('matplotlib', mpl.mpl_figure_comm);\n",
       "}\n"
      ],
      "text/plain": [
       "<IPython.core.display.Javascript object>"
      ]
     },
     "metadata": {},
     "output_type": "display_data"
    },
    {
     "data": {
      "text/html": [
       "<img src=\"data:image/png;base64,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\" width=\"640\">"
      ],
      "text/plain": [
       "<IPython.core.display.HTML object>"
      ]
     },
     "metadata": {},
     "output_type": "display_data"
    }
   ],
   "source": [
    "x = np.linspace(0, 10, 100) # generate 100 uniformly spaced values between (0,10)\n",
    "plt.plot( x, np.sin(x) )\n",
    "plt.plot( x, np.cos(x) );"
   ]
  },
  {
   "cell_type": "code",
   "execution_count": 107,
   "metadata": {
    "collapsed": true
   },
   "outputs": [],
   "source": [
    "%matplotlib inline"
   ]
  },
  {
   "cell_type": "code",
   "execution_count": 108,
   "metadata": {},
   "outputs": [
    {
     "data": {
      "image/png": "[encoded data removed]",
      "text/plain": [
       "<Figure size 432x288 with 1 Axes>"
      ]
     },
     "metadata": {
      "needs_background": "light"
     },
     "output_type": "display_data"
    }
   ],
   "source": [
    "x = np.linspace(0, 10, 100) # generate 100 uniformly spaced values between (0,10)\n",
    "plt.plot( x, np.sin(x) )\n",
    "plt.plot( x, np.cos(x) );"
   ]
  },
  {
   "cell_type": "code",
   "execution_count": 110,
   "metadata": {},
   "outputs": [
    {
     "data": {
      "image/png": "[encoded data removed]",
      "text/plain": [
       "<Figure size 432x288 with 1 Axes>"
      ]
     },
     "metadata": {
      "needs_background": "light"
     },
     "output_type": "display_data"
    }
   ],
   "source": [
    "x = np.linspace(0, 10, 100) # generate 100 uniformly spaced values between (0,10)\n",
    "plt.plot( x, np.sin(x), '-' ) # - means solid line\n",
    "plt.plot( x, np.cos(x),'--' ); # -- means dashed line"
   ]
  },
  {
   "cell_type": "code",
   "execution_count": 111,
   "metadata": {},
   "outputs": [
    {
     "data": {
      "image/png": "[encoded data removed]",
      "text/plain": [
       "<Figure size 432x288 with 2 Axes>"
      ]
     },
     "metadata": {
      "needs_background": "light"
     },
     "output_type": "display_data"
    }
   ],
   "source": [
    "plt.figure()\n",
    "plt.subplot(2,1,1)\n",
    "# rows, col, panel number\n",
    "plt.plot(x, np.sin(x))\n",
    "\n",
    "plt.subplot(2,1,2)\n",
    "# rows, col, panel number\n",
    "plt.plot(x, np.cos(x));"
   ]
  },
  {
   "cell_type": "code",
   "execution_count": 116,
   "metadata": {},
   "outputs": [
    {
     "data": {
      "image/png": "[encoded data removed]",
      "text/plain": [
       "<Figure size 432x288 with 1 Axes>"
      ]
     },
     "metadata": {
      "needs_background": "light"
     },
     "output_type": "display_data"
    }
   ],
   "source": [
    "# Adjusting the plot: Line colors and Styles\n",
    "plt.plot(x, np.sin(x), color='blue') # specify color by name\n",
    "plt.plot(x, np.sin(x-1), color='g') # short color code \n",
    "plt.plot(x, np.sin(x-2), color='0.75') # Grayscale 0 to 1, 0 means dark and 1 means white \n",
    "plt.plot(x, np.sin(x-3), color='#FFDD44') # hex code \n",
    "plt.plot(x, np.sin(x), color=(1.0,0.2,0.3)); # RGB tuple , values between 0 and 1 "
   ]
  },
  {
   "cell_type": "code",
   "execution_count": 121,
   "metadata": {},
   "outputs": [
    {
     "data": {
      "image/png": "[encoded data removed]",
      "text/plain": [
       "<Figure size 432x288 with 1 Axes>"
      ]
     },
     "metadata": {
      "needs_background": "light"
     },
     "output_type": "display_data"
    }
   ],
   "source": [
    "# adjust the line styles suing th.e 'linestyle' keyword\n",
    "plt.plot(x, x+0, linestyle='solid')\n",
    "plt.plot(x, x+1, linestyle='dashed')\n",
    "plt.plot(x, x+2, linestyle='dashdot')\n",
    "plt.plot(x, x+3, linestyle='dotted')\n",
    "\n",
    "plt.plot(x, x+4, linestyle='-') # solid\n",
    "plt.plot(x, x+5, linestyle='--') # dashed\n",
    "plt.plot(x, x+6, linestyle='-.') # dashdot\n",
    "plt.plot(x, x+7, linestyle=':'); # dotted"
   ]
  },
  {
   "cell_type": "code",
   "execution_count": 123,
   "metadata": {},
   "outputs": [
    {
     "data": {
      "image/png": "[encoded data removed]",
      "text/plain": [
       "<Figure size 432x288 with 1 Axes>"
      ]
     },
     "metadata": {
      "needs_background": "light"
     },
     "output_type": "display_data"
    }
   ],
   "source": [
    "# extremely shot way\n",
    "plt.plot(x, x+0, '-g') # solid green\n",
    "plt.plot(x, x+1, '--c') # dashed cyan\n",
    "plt.plot(x, x+2, '-.k') # dashdot black\n",
    "plt.plot(x, x+3, ':r'); # dotted red"
   ]
  },
  {
   "cell_type": "code",
   "execution_count": 124,
   "metadata": {},
   "outputs": [
    {
     "data": {
      "image/png": "[encoded data removed]",
      "text/plain": [
       "<Figure size 432x288 with 1 Axes>"
      ]
     },
     "metadata": {
      "needs_background": "light"
     },
     "output_type": "display_data"
    }
   ],
   "source": [
    "# Labeling the plot\n",
    "plt.plot(x, np.sin(x))\n",
    "plt.title(\"A Sine Curve\")\n",
    "plt.xlabel(\"x\")\n",
    "plt.ylabel(\"sin(x)\");"
   ]
  },
  {
   "cell_type": "code",
   "execution_count": 125,
   "metadata": {},
   "outputs": [
    {
     "data": {
      "image/png": "[encoded data removed]",
      "text/plain": [
       "<Figure size 432x288 with 1 Axes>"
      ]
     },
     "metadata": {
      "needs_background": "light"
     },
     "output_type": "display_data"
    }
   ],
   "source": [
    "# Legends\n",
    "plt.plot(x, np.sin(x), '-g', label='sin(x)')\n",
    "plt.plot(x, np.cos(x), ':b', label='cos(x)')\n",
    "plt.legend();"
   ]
  },
  {
   "cell_type": "code",
   "execution_count": 135,
   "metadata": {},
   "outputs": [
    {
     "data": {
      "image/png": "[encoded data removed]",
      "text/plain": [
       "<Figure size 432x288 with 1 Axes>"
      ]
     },
     "metadata": {
      "needs_background": "light"
     },
     "output_type": "display_data"
    }
   ],
   "source": [
    "# Simple Scatter Plots x vs y dots\n",
    "plt.plot(x, np.sin(x), '+', color='black');\n",
    "# s square, d diamond o dot * star x x_marks"
   ]
  },
  {
   "cell_type": "code",
   "execution_count": 136,
   "metadata": {},
   "outputs": [
    {
     "data": {
      "image/png": "[encoded data removed]",
      "text/plain": [
       "<Figure size 432x288 with 1 Axes>"
      ]
     },
     "metadata": {
      "needs_background": "light"
     },
     "output_type": "display_data"
    }
   ],
   "source": [
    "plt.scatter(x, np.sin(x), marker='o');"
   ]
  },
  {
   "cell_type": "code",
   "execution_count": 141,
   "metadata": {},
   "outputs": [
    {
     "data": {
      "image/png": "[encoded data removed]",
      "text/plain": [
       "<Figure size 432x288 with 6 Axes>"
      ]
     },
     "metadata": {
      "needs_background": "light"
     },
     "output_type": "display_data"
    }
   ],
   "source": [
    "# How to plot many subplot\n",
    "\n",
    "for i in range(1,7):\n",
    "    plt.subplot(2,3,i)\n",
    "    plt.text(0.5, 0.5, str((2,3,i)), fontsize=10, ha= 'center')"
   ]
  },
  {
   "cell_type": "markdown",
   "metadata": {},
   "source": [
    "# Happy Learning"
   ]
  }
 ],
 "metadata": {
  "kernelspec": {
   "display_name": "Python 3",
   "language": "python",
   "name": "python3"
  },
  "language_info": {
   "codemirror_mode": {
    "name": "ipython",
    "version": 3
   },
   "file_extension": ".py",
   "mimetype": "text/x-python",
   "name": "python",
   "nbconvert_exporter": "python",
   "pygments_lexer": "ipython3",
   "version": "3.6.3"
  },
  "toc": {
   "base_numbering": 1,
   "nav_menu": {},
   "number_sections": true,
   "sideBar": true,
   "skip_h1_title": false,
   "title_cell": "Table of Contents",
   "title_sidebar": "Contents",
   "toc_cell": false,
   "toc_position": {},
   "toc_section_display": true,
   "toc_window_display": false
  }
 },
 "nbformat": 4,
 "nbformat_minor": 2
}
